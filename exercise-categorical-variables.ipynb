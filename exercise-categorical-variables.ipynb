{
 "cells": [
  {
   "cell_type": "markdown",
   "id": "65f407dd",
   "metadata": {
    "papermill": {
     "duration": 0.042218,
     "end_time": "2022-05-09T23:47:48.588296",
     "exception": false,
     "start_time": "2022-05-09T23:47:48.546078",
     "status": "completed"
    },
    "tags": []
   },
   "source": [
    "**This notebook is an exercise in the [Intermediate Machine Learning](https://www.kaggle.com/learn/intermediate-machine-learning) course.  You can reference the tutorial at [this link](https://www.kaggle.com/alexisbcook/categorical-variables).**\n",
    "\n",
    "---\n"
   ]
  },
  {
   "cell_type": "markdown",
   "id": "939dabea",
   "metadata": {
    "papermill": {
     "duration": 0.026432,
     "end_time": "2022-05-09T23:47:48.648560",
     "exception": false,
     "start_time": "2022-05-09T23:47:48.622128",
     "status": "completed"
    },
    "tags": []
   },
   "source": [
    "By encoding **categorical variables**, you'll obtain your best results thus far!\n",
    "\n",
    "# Setup\n",
    "\n",
    "The questions below will give you feedback on your work. Run the following cell to set up the feedback system."
   ]
  },
  {
   "cell_type": "code",
   "execution_count": 1,
   "id": "bcf0f4fa",
   "metadata": {
    "execution": {
     "iopub.execute_input": "2022-05-09T23:47:48.703865Z",
     "iopub.status.busy": "2022-05-09T23:47:48.703126Z",
     "iopub.status.idle": "2022-05-09T23:47:48.755804Z",
     "shell.execute_reply": "2022-05-09T23:47:48.755011Z"
    },
    "papermill": {
     "duration": 0.08264,
     "end_time": "2022-05-09T23:47:48.757788",
     "exception": false,
     "start_time": "2022-05-09T23:47:48.675148",
     "status": "completed"
    },
    "tags": []
   },
   "outputs": [
    {
     "name": "stdout",
     "output_type": "stream",
     "text": [
      "Setup Complete\n"
     ]
    }
   ],
   "source": [
    "# Set up code checking\n",
    "import os\n",
    "if not os.path.exists(\"../input/train.csv\"):\n",
    "    os.symlink(\"../input/home-data-for-ml-course/train.csv\", \"../input/train.csv\")  \n",
    "    os.symlink(\"../input/home-data-for-ml-course/test.csv\", \"../input/test.csv\") \n",
    "from learntools.core import binder\n",
    "binder.bind(globals())\n",
    "from learntools.ml_intermediate.ex3 import *\n",
    "print(\"Setup Complete\")"
   ]
  },
  {
   "cell_type": "markdown",
   "id": "2063b07c",
   "metadata": {
    "papermill": {
     "duration": 0.026956,
     "end_time": "2022-05-09T23:47:48.814826",
     "exception": false,
     "start_time": "2022-05-09T23:47:48.787870",
     "status": "completed"
    },
    "tags": []
   },
   "source": [
    "In this exercise, you will work with data from the [Housing Prices Competition for Kaggle Learn Users](https://www.kaggle.com/c/home-data-for-ml-course). \n",
    "\n",
    "![Ames Housing dataset image](https://i.imgur.com/lTJVG4e.png)\n",
    "\n",
    "Run the next code cell without changes to load the training and validation sets in `X_train`, `X_valid`, `y_train`, and `y_valid`.  The test set is loaded in `X_test`."
   ]
  },
  {
   "cell_type": "code",
   "execution_count": 2,
   "id": "bbdf9752",
   "metadata": {
    "execution": {
     "iopub.execute_input": "2022-05-09T23:47:48.871332Z",
     "iopub.status.busy": "2022-05-09T23:47:48.870736Z",
     "iopub.status.idle": "2022-05-09T23:47:50.103076Z",
     "shell.execute_reply": "2022-05-09T23:47:50.101864Z"
    },
    "papermill": {
     "duration": 1.263352,
     "end_time": "2022-05-09T23:47:50.105701",
     "exception": false,
     "start_time": "2022-05-09T23:47:48.842349",
     "status": "completed"
    },
    "tags": []
   },
   "outputs": [],
   "source": [
    "import pandas as pd\n",
    "from sklearn.model_selection import train_test_split\n",
    "\n",
    "# Read the data\n",
    "X = pd.read_csv('../input/train.csv', index_col='Id') \n",
    "X_test = pd.read_csv('../input/test.csv', index_col='Id')\n",
    "\n",
    "# Remove rows with missing target, separate target from predictors\n",
    "X.dropna(axis=0, subset=['SalePrice'], inplace=True)\n",
    "y = X.SalePrice\n",
    "X.drop(['SalePrice'], axis=1, inplace=True)\n",
    "\n",
    "# To keep things simple, we'll drop columns with missing values\n",
    "cols_with_missing = [col for col in X.columns if X[col].isnull().any()] \n",
    "X.drop(cols_with_missing, axis=1, inplace=True)\n",
    "X_test.drop(cols_with_missing, axis=1, inplace=True)\n",
    "\n",
    "# Break off validation set from training data\n",
    "X_train, X_valid, y_train, y_valid = train_test_split(X, y,\n",
    "                                                      train_size=0.8, test_size=0.2,\n",
    "                                                      random_state=0)"
   ]
  },
  {
   "cell_type": "markdown",
   "id": "b850658a",
   "metadata": {
    "papermill": {
     "duration": 0.040353,
     "end_time": "2022-05-09T23:47:50.185920",
     "exception": false,
     "start_time": "2022-05-09T23:47:50.145567",
     "status": "completed"
    },
    "tags": []
   },
   "source": [
    "Use the next code cell to print the first five rows of the data."
   ]
  },
  {
   "cell_type": "code",
   "execution_count": 3,
   "id": "f3ff6ad4",
   "metadata": {
    "execution": {
     "iopub.execute_input": "2022-05-09T23:47:50.247394Z",
     "iopub.status.busy": "2022-05-09T23:47:50.246348Z",
     "iopub.status.idle": "2022-05-09T23:47:50.272460Z",
     "shell.execute_reply": "2022-05-09T23:47:50.271880Z"
    },
    "papermill": {
     "duration": 0.057639,
     "end_time": "2022-05-09T23:47:50.274359",
     "exception": false,
     "start_time": "2022-05-09T23:47:50.216720",
     "status": "completed"
    },
    "tags": []
   },
   "outputs": [
    {
     "data": {
      "text/html": [
       "<div>\n",
       "<style scoped>\n",
       "    .dataframe tbody tr th:only-of-type {\n",
       "        vertical-align: middle;\n",
       "    }\n",
       "\n",
       "    .dataframe tbody tr th {\n",
       "        vertical-align: top;\n",
       "    }\n",
       "\n",
       "    .dataframe thead th {\n",
       "        text-align: right;\n",
       "    }\n",
       "</style>\n",
       "<table border=\"1\" class=\"dataframe\">\n",
       "  <thead>\n",
       "    <tr style=\"text-align: right;\">\n",
       "      <th></th>\n",
       "      <th>MSSubClass</th>\n",
       "      <th>MSZoning</th>\n",
       "      <th>LotArea</th>\n",
       "      <th>Street</th>\n",
       "      <th>LotShape</th>\n",
       "      <th>LandContour</th>\n",
       "      <th>Utilities</th>\n",
       "      <th>LotConfig</th>\n",
       "      <th>LandSlope</th>\n",
       "      <th>Neighborhood</th>\n",
       "      <th>...</th>\n",
       "      <th>OpenPorchSF</th>\n",
       "      <th>EnclosedPorch</th>\n",
       "      <th>3SsnPorch</th>\n",
       "      <th>ScreenPorch</th>\n",
       "      <th>PoolArea</th>\n",
       "      <th>MiscVal</th>\n",
       "      <th>MoSold</th>\n",
       "      <th>YrSold</th>\n",
       "      <th>SaleType</th>\n",
       "      <th>SaleCondition</th>\n",
       "    </tr>\n",
       "    <tr>\n",
       "      <th>Id</th>\n",
       "      <th></th>\n",
       "      <th></th>\n",
       "      <th></th>\n",
       "      <th></th>\n",
       "      <th></th>\n",
       "      <th></th>\n",
       "      <th></th>\n",
       "      <th></th>\n",
       "      <th></th>\n",
       "      <th></th>\n",
       "      <th></th>\n",
       "      <th></th>\n",
       "      <th></th>\n",
       "      <th></th>\n",
       "      <th></th>\n",
       "      <th></th>\n",
       "      <th></th>\n",
       "      <th></th>\n",
       "      <th></th>\n",
       "      <th></th>\n",
       "      <th></th>\n",
       "    </tr>\n",
       "  </thead>\n",
       "  <tbody>\n",
       "    <tr>\n",
       "      <th>619</th>\n",
       "      <td>20</td>\n",
       "      <td>RL</td>\n",
       "      <td>11694</td>\n",
       "      <td>Pave</td>\n",
       "      <td>Reg</td>\n",
       "      <td>Lvl</td>\n",
       "      <td>AllPub</td>\n",
       "      <td>Inside</td>\n",
       "      <td>Gtl</td>\n",
       "      <td>NridgHt</td>\n",
       "      <td>...</td>\n",
       "      <td>108</td>\n",
       "      <td>0</td>\n",
       "      <td>0</td>\n",
       "      <td>260</td>\n",
       "      <td>0</td>\n",
       "      <td>0</td>\n",
       "      <td>7</td>\n",
       "      <td>2007</td>\n",
       "      <td>New</td>\n",
       "      <td>Partial</td>\n",
       "    </tr>\n",
       "    <tr>\n",
       "      <th>871</th>\n",
       "      <td>20</td>\n",
       "      <td>RL</td>\n",
       "      <td>6600</td>\n",
       "      <td>Pave</td>\n",
       "      <td>Reg</td>\n",
       "      <td>Lvl</td>\n",
       "      <td>AllPub</td>\n",
       "      <td>Inside</td>\n",
       "      <td>Gtl</td>\n",
       "      <td>NAmes</td>\n",
       "      <td>...</td>\n",
       "      <td>0</td>\n",
       "      <td>0</td>\n",
       "      <td>0</td>\n",
       "      <td>0</td>\n",
       "      <td>0</td>\n",
       "      <td>0</td>\n",
       "      <td>8</td>\n",
       "      <td>2009</td>\n",
       "      <td>WD</td>\n",
       "      <td>Normal</td>\n",
       "    </tr>\n",
       "    <tr>\n",
       "      <th>93</th>\n",
       "      <td>30</td>\n",
       "      <td>RL</td>\n",
       "      <td>13360</td>\n",
       "      <td>Pave</td>\n",
       "      <td>IR1</td>\n",
       "      <td>HLS</td>\n",
       "      <td>AllPub</td>\n",
       "      <td>Inside</td>\n",
       "      <td>Gtl</td>\n",
       "      <td>Crawfor</td>\n",
       "      <td>...</td>\n",
       "      <td>0</td>\n",
       "      <td>44</td>\n",
       "      <td>0</td>\n",
       "      <td>0</td>\n",
       "      <td>0</td>\n",
       "      <td>0</td>\n",
       "      <td>8</td>\n",
       "      <td>2009</td>\n",
       "      <td>WD</td>\n",
       "      <td>Normal</td>\n",
       "    </tr>\n",
       "    <tr>\n",
       "      <th>818</th>\n",
       "      <td>20</td>\n",
       "      <td>RL</td>\n",
       "      <td>13265</td>\n",
       "      <td>Pave</td>\n",
       "      <td>IR1</td>\n",
       "      <td>Lvl</td>\n",
       "      <td>AllPub</td>\n",
       "      <td>CulDSac</td>\n",
       "      <td>Gtl</td>\n",
       "      <td>Mitchel</td>\n",
       "      <td>...</td>\n",
       "      <td>59</td>\n",
       "      <td>0</td>\n",
       "      <td>0</td>\n",
       "      <td>0</td>\n",
       "      <td>0</td>\n",
       "      <td>0</td>\n",
       "      <td>7</td>\n",
       "      <td>2008</td>\n",
       "      <td>WD</td>\n",
       "      <td>Normal</td>\n",
       "    </tr>\n",
       "    <tr>\n",
       "      <th>303</th>\n",
       "      <td>20</td>\n",
       "      <td>RL</td>\n",
       "      <td>13704</td>\n",
       "      <td>Pave</td>\n",
       "      <td>IR1</td>\n",
       "      <td>Lvl</td>\n",
       "      <td>AllPub</td>\n",
       "      <td>Corner</td>\n",
       "      <td>Gtl</td>\n",
       "      <td>CollgCr</td>\n",
       "      <td>...</td>\n",
       "      <td>81</td>\n",
       "      <td>0</td>\n",
       "      <td>0</td>\n",
       "      <td>0</td>\n",
       "      <td>0</td>\n",
       "      <td>0</td>\n",
       "      <td>1</td>\n",
       "      <td>2006</td>\n",
       "      <td>WD</td>\n",
       "      <td>Normal</td>\n",
       "    </tr>\n",
       "  </tbody>\n",
       "</table>\n",
       "<p>5 rows × 60 columns</p>\n",
       "</div>"
      ],
      "text/plain": [
       "     MSSubClass MSZoning  LotArea Street LotShape LandContour Utilities  \\\n",
       "Id                                                                        \n",
       "619          20       RL    11694   Pave      Reg         Lvl    AllPub   \n",
       "871          20       RL     6600   Pave      Reg         Lvl    AllPub   \n",
       "93           30       RL    13360   Pave      IR1         HLS    AllPub   \n",
       "818          20       RL    13265   Pave      IR1         Lvl    AllPub   \n",
       "303          20       RL    13704   Pave      IR1         Lvl    AllPub   \n",
       "\n",
       "    LotConfig LandSlope Neighborhood  ... OpenPorchSF EnclosedPorch 3SsnPorch  \\\n",
       "Id                                    ...                                       \n",
       "619    Inside       Gtl      NridgHt  ...         108             0         0   \n",
       "871    Inside       Gtl        NAmes  ...           0             0         0   \n",
       "93     Inside       Gtl      Crawfor  ...           0            44         0   \n",
       "818   CulDSac       Gtl      Mitchel  ...          59             0         0   \n",
       "303    Corner       Gtl      CollgCr  ...          81             0         0   \n",
       "\n",
       "    ScreenPorch  PoolArea  MiscVal  MoSold  YrSold SaleType SaleCondition  \n",
       "Id                                                                         \n",
       "619         260         0        0       7    2007      New       Partial  \n",
       "871           0         0        0       8    2009       WD        Normal  \n",
       "93            0         0        0       8    2009       WD        Normal  \n",
       "818           0         0        0       7    2008       WD        Normal  \n",
       "303           0         0        0       1    2006       WD        Normal  \n",
       "\n",
       "[5 rows x 60 columns]"
      ]
     },
     "execution_count": 3,
     "metadata": {},
     "output_type": "execute_result"
    }
   ],
   "source": [
    "X_train.head()"
   ]
  },
  {
   "cell_type": "markdown",
   "id": "ebcc618d",
   "metadata": {
    "papermill": {
     "duration": 0.028595,
     "end_time": "2022-05-09T23:47:50.332135",
     "exception": false,
     "start_time": "2022-05-09T23:47:50.303540",
     "status": "completed"
    },
    "tags": []
   },
   "source": [
    "Notice that the dataset contains both numerical and categorical variables.  You'll need to encode the categorical data before training a model.\n",
    "\n",
    "To compare different models, you'll use the same `score_dataset()` function from the tutorial.  This function reports the [mean absolute error](https://en.wikipedia.org/wiki/Mean_absolute_error) (MAE) from a random forest model."
   ]
  },
  {
   "cell_type": "code",
   "execution_count": 4,
   "id": "ab200cc6",
   "metadata": {
    "execution": {
     "iopub.execute_input": "2022-05-09T23:47:50.389155Z",
     "iopub.status.busy": "2022-05-09T23:47:50.388602Z",
     "iopub.status.idle": "2022-05-09T23:47:50.608531Z",
     "shell.execute_reply": "2022-05-09T23:47:50.607909Z"
    },
    "papermill": {
     "duration": 0.251043,
     "end_time": "2022-05-09T23:47:50.610897",
     "exception": false,
     "start_time": "2022-05-09T23:47:50.359854",
     "status": "completed"
    },
    "tags": []
   },
   "outputs": [],
   "source": [
    "from sklearn.ensemble import RandomForestRegressor\n",
    "from sklearn.metrics import mean_absolute_error\n",
    "\n",
    "# function for comparing different approaches\n",
    "def score_dataset(X_train, X_valid, y_train, y_valid):\n",
    "    model = RandomForestRegressor(n_estimators=100, random_state=0)\n",
    "    model.fit(X_train, y_train)\n",
    "    preds = model.predict(X_valid)\n",
    "    return mean_absolute_error(y_valid, preds)"
   ]
  },
  {
   "cell_type": "markdown",
   "id": "7ca79d66",
   "metadata": {
    "papermill": {
     "duration": 0.027618,
     "end_time": "2022-05-09T23:47:50.667337",
     "exception": false,
     "start_time": "2022-05-09T23:47:50.639719",
     "status": "completed"
    },
    "tags": []
   },
   "source": [
    "# Step 1: Drop columns with categorical data\n",
    "\n",
    "You'll get started with the most straightforward approach.  Use the code cell below to preprocess the data in `X_train` and `X_valid` to remove columns with categorical data.  Set the preprocessed DataFrames to `drop_X_train` and `drop_X_valid`, respectively.  "
   ]
  },
  {
   "cell_type": "code",
   "execution_count": 5,
   "id": "2b8f9051",
   "metadata": {
    "execution": {
     "iopub.execute_input": "2022-05-09T23:47:50.726146Z",
     "iopub.status.busy": "2022-05-09T23:47:50.725538Z",
     "iopub.status.idle": "2022-05-09T23:47:50.736272Z",
     "shell.execute_reply": "2022-05-09T23:47:50.735573Z"
    },
    "papermill": {
     "duration": 0.042982,
     "end_time": "2022-05-09T23:47:50.738160",
     "exception": false,
     "start_time": "2022-05-09T23:47:50.695178",
     "status": "completed"
    },
    "tags": []
   },
   "outputs": [
    {
     "data": {
      "application/javascript": [
       "parent.postMessage({\"jupyterEvent\": \"custom.exercise_interaction\", \"data\": {\"outcomeType\": 1, \"valueTowardsCompletion\": 0.5, \"interactionType\": 1, \"questionType\": 2, \"questionId\": \"1_Drop\", \"learnToolsVersion\": \"0.3.4\", \"failureMessage\": \"\", \"exceptionClass\": \"\", \"trace\": \"\"}}, \"*\")"
      ],
      "text/plain": [
       "<IPython.core.display.Javascript object>"
      ]
     },
     "metadata": {},
     "output_type": "display_data"
    },
    {
     "data": {
      "text/markdown": [
       "<span style=\"color:#33cc33\">Correct</span>"
      ],
      "text/plain": [
       "Correct"
      ]
     },
     "metadata": {},
     "output_type": "display_data"
    }
   ],
   "source": [
    "# Fill in the lines below: drop columns in training and validation data\n",
    "drop_X_train = X_train.select_dtypes(exclude=['object'])\n",
    "drop_X_valid =X_valid.select_dtypes(exclude=['object'])\n",
    "\n",
    "# Check your answers\n",
    "step_1.check()"
   ]
  },
  {
   "cell_type": "code",
   "execution_count": 6,
   "id": "cea4d67f",
   "metadata": {
    "execution": {
     "iopub.execute_input": "2022-05-09T23:47:50.797633Z",
     "iopub.status.busy": "2022-05-09T23:47:50.797335Z",
     "iopub.status.idle": "2022-05-09T23:47:50.800190Z",
     "shell.execute_reply": "2022-05-09T23:47:50.799625Z"
    },
    "papermill": {
     "duration": 0.03414,
     "end_time": "2022-05-09T23:47:50.801735",
     "exception": false,
     "start_time": "2022-05-09T23:47:50.767595",
     "status": "completed"
    },
    "tags": []
   },
   "outputs": [],
   "source": [
    "# Lines below will give you a hint or solution code\n",
    "#step_1.hint()\n",
    "#step_1.solution()"
   ]
  },
  {
   "cell_type": "markdown",
   "id": "7135e447",
   "metadata": {
    "papermill": {
     "duration": 0.028177,
     "end_time": "2022-05-09T23:47:50.858568",
     "exception": false,
     "start_time": "2022-05-09T23:47:50.830391",
     "status": "completed"
    },
    "tags": []
   },
   "source": [
    "Run the next code cell to get the MAE for this approach."
   ]
  },
  {
   "cell_type": "code",
   "execution_count": 7,
   "id": "d3975803",
   "metadata": {
    "execution": {
     "iopub.execute_input": "2022-05-09T23:47:50.919292Z",
     "iopub.status.busy": "2022-05-09T23:47:50.918745Z",
     "iopub.status.idle": "2022-05-09T23:47:52.008937Z",
     "shell.execute_reply": "2022-05-09T23:47:52.008039Z"
    },
    "papermill": {
     "duration": 1.122117,
     "end_time": "2022-05-09T23:47:52.010859",
     "exception": false,
     "start_time": "2022-05-09T23:47:50.888742",
     "status": "completed"
    },
    "tags": []
   },
   "outputs": [
    {
     "name": "stdout",
     "output_type": "stream",
     "text": [
      "MAE from Approach 1 (Drop categorical variables):\n",
      "17837.82570776256\n"
     ]
    }
   ],
   "source": [
    "print(\"MAE from Approach 1 (Drop categorical variables):\")\n",
    "print(score_dataset(drop_X_train, drop_X_valid, y_train, y_valid))"
   ]
  },
  {
   "cell_type": "markdown",
   "id": "1eb3fbfa",
   "metadata": {
    "papermill": {
     "duration": 0.02891,
     "end_time": "2022-05-09T23:47:52.070979",
     "exception": false,
     "start_time": "2022-05-09T23:47:52.042069",
     "status": "completed"
    },
    "tags": []
   },
   "source": [
    "Before jumping into ordinal encoding, we'll investigate the dataset.  Specifically, we'll look at the `'Condition2'` column.  The code cell below prints the unique entries in both the training and validation sets."
   ]
  },
  {
   "cell_type": "code",
   "execution_count": 8,
   "id": "20ae4bef",
   "metadata": {
    "execution": {
     "iopub.execute_input": "2022-05-09T23:47:52.131092Z",
     "iopub.status.busy": "2022-05-09T23:47:52.130656Z",
     "iopub.status.idle": "2022-05-09T23:47:52.137254Z",
     "shell.execute_reply": "2022-05-09T23:47:52.136293Z"
    },
    "papermill": {
     "duration": 0.040196,
     "end_time": "2022-05-09T23:47:52.140234",
     "exception": false,
     "start_time": "2022-05-09T23:47:52.100038",
     "status": "completed"
    },
    "tags": []
   },
   "outputs": [
    {
     "name": "stdout",
     "output_type": "stream",
     "text": [
      "Unique values in 'Condition2' column in training data: ['Norm' 'PosA' 'Feedr' 'PosN' 'Artery' 'RRAe']\n",
      "\n",
      "Unique values in 'Condition2' column in validation data: ['Norm' 'RRAn' 'RRNn' 'Artery' 'Feedr' 'PosN']\n"
     ]
    }
   ],
   "source": [
    "print(\"Unique values in 'Condition2' column in training data:\", X_train['Condition2'].unique())\n",
    "print(\"\\nUnique values in 'Condition2' column in validation data:\", X_valid['Condition2'].unique())"
   ]
  },
  {
   "cell_type": "markdown",
   "id": "94465911",
   "metadata": {
    "papermill": {
     "duration": 0.029057,
     "end_time": "2022-05-09T23:47:52.200104",
     "exception": false,
     "start_time": "2022-05-09T23:47:52.171047",
     "status": "completed"
    },
    "tags": []
   },
   "source": [
    "# Step 2: Ordinal encoding\n",
    "\n",
    "### Part A\n",
    "\n",
    "If you now write code to: \n",
    "- fit an ordinal encoder to the training data, and then \n",
    "- use it to transform both the training and validation data, \n",
    "\n",
    "you'll get an error.  Can you see why this is the case?  (_You'll need  to use the above output to answer this question._)"
   ]
  },
  {
   "cell_type": "markdown",
   "id": "edbf40a6",
   "metadata": {
    "papermill": {
     "duration": 0.02908,
     "end_time": "2022-05-09T23:47:52.259059",
     "exception": false,
     "start_time": "2022-05-09T23:47:52.229979",
     "status": "completed"
    },
    "tags": []
   },
   "source": [
    "Because it would there is a some value validation not in encoded values of training"
   ]
  },
  {
   "cell_type": "code",
   "execution_count": 9,
   "id": "8c2a9f88",
   "metadata": {
    "execution": {
     "iopub.execute_input": "2022-05-09T23:47:52.319294Z",
     "iopub.status.busy": "2022-05-09T23:47:52.319039Z",
     "iopub.status.idle": "2022-05-09T23:47:52.326318Z",
     "shell.execute_reply": "2022-05-09T23:47:52.325447Z"
    },
    "papermill": {
     "duration": 0.039569,
     "end_time": "2022-05-09T23:47:52.328213",
     "exception": false,
     "start_time": "2022-05-09T23:47:52.288644",
     "status": "completed"
    },
    "tags": []
   },
   "outputs": [
    {
     "data": {
      "application/javascript": [
       "parent.postMessage({\"jupyterEvent\": \"custom.exercise_interaction\", \"data\": {\"outcomeType\": 1, \"valueTowardsCompletion\": 0.5, \"interactionType\": 1, \"questionType\": 4, \"questionId\": \"2.1_LabelA\", \"learnToolsVersion\": \"0.3.4\", \"failureMessage\": \"\", \"exceptionClass\": \"\", \"trace\": \"\"}}, \"*\")"
      ],
      "text/plain": [
       "<IPython.core.display.Javascript object>"
      ]
     },
     "metadata": {},
     "output_type": "display_data"
    },
    {
     "data": {
      "text/markdown": [
       "<span style=\"color:#33cc33\">Correct:</span> \n",
       "\n",
       "Fitting an ordinal encoder to a column in the training data creates a corresponding integer-valued label for each unique value **that appears in the training data**. In the case that the validation data contains values that don't also appear in the training data, the encoder will throw an error, because these values won't have an integer assigned to them.  Notice that the `'Condition2'` column in the validation data contains the values `'RRAn'` and `'RRNn'`, but these don't appear in the training data -- thus, if we try to use an ordinal encoder with scikit-learn, the code will throw an error."
      ],
      "text/plain": [
       "Correct: \n",
       "\n",
       "Fitting an ordinal encoder to a column in the training data creates a corresponding integer-valued label for each unique value **that appears in the training data**. In the case that the validation data contains values that don't also appear in the training data, the encoder will throw an error, because these values won't have an integer assigned to them.  Notice that the `'Condition2'` column in the validation data contains the values `'RRAn'` and `'RRNn'`, but these don't appear in the training data -- thus, if we try to use an ordinal encoder with scikit-learn, the code will throw an error."
      ]
     },
     "metadata": {},
     "output_type": "display_data"
    }
   ],
   "source": [
    "# Check your answer (Run this code cell to receive credit!)\n",
    "step_2.a.check()"
   ]
  },
  {
   "cell_type": "code",
   "execution_count": 10,
   "id": "d41dfd36",
   "metadata": {
    "execution": {
     "iopub.execute_input": "2022-05-09T23:47:52.391605Z",
     "iopub.status.busy": "2022-05-09T23:47:52.391101Z",
     "iopub.status.idle": "2022-05-09T23:47:52.394689Z",
     "shell.execute_reply": "2022-05-09T23:47:52.394056Z"
    },
    "papermill": {
     "duration": 0.03671,
     "end_time": "2022-05-09T23:47:52.396363",
     "exception": false,
     "start_time": "2022-05-09T23:47:52.359653",
     "status": "completed"
    },
    "tags": []
   },
   "outputs": [],
   "source": [
    "#step_2.a.hint()"
   ]
  },
  {
   "cell_type": "markdown",
   "id": "12e30112",
   "metadata": {
    "papermill": {
     "duration": 0.030127,
     "end_time": "2022-05-09T23:47:52.457073",
     "exception": false,
     "start_time": "2022-05-09T23:47:52.426946",
     "status": "completed"
    },
    "tags": []
   },
   "source": [
    "This is a common problem that you'll encounter with real-world data, and there are many approaches to fixing this issue.  For instance, you can write a custom ordinal encoder to deal with new categories.  The simplest approach, however, is to drop the problematic categorical columns.  \n",
    "\n",
    "Run the code cell below to save the problematic columns to a Python list `bad_label_cols`.  Likewise, columns that can be safely ordinal encoded are stored in `good_label_cols`."
   ]
  },
  {
   "cell_type": "code",
   "execution_count": 11,
   "id": "8e99e3d7",
   "metadata": {
    "execution": {
     "iopub.execute_input": "2022-05-09T23:47:52.519825Z",
     "iopub.status.busy": "2022-05-09T23:47:52.519200Z",
     "iopub.status.idle": "2022-05-09T23:47:52.532624Z",
     "shell.execute_reply": "2022-05-09T23:47:52.531770Z"
    },
    "papermill": {
     "duration": 0.047005,
     "end_time": "2022-05-09T23:47:52.534671",
     "exception": false,
     "start_time": "2022-05-09T23:47:52.487666",
     "status": "completed"
    },
    "tags": []
   },
   "outputs": [
    {
     "name": "stdout",
     "output_type": "stream",
     "text": [
      "Categorical columns that will be ordinal encoded: ['MSZoning', 'Street', 'LotShape', 'LandContour', 'Utilities', 'LotConfig', 'LandSlope', 'Neighborhood', 'Condition1', 'BldgType', 'HouseStyle', 'RoofStyle', 'Exterior1st', 'Exterior2nd', 'ExterQual', 'ExterCond', 'Foundation', 'Heating', 'HeatingQC', 'CentralAir', 'KitchenQual', 'PavedDrive', 'SaleType', 'SaleCondition']\n",
      "\n",
      "Categorical columns that will be dropped from the dataset: ['RoofMatl', 'Condition2', 'Functional']\n"
     ]
    }
   ],
   "source": [
    "# Categorical columns in the training data\n",
    "object_cols = [col for col in X_train.columns if X_train[col].dtype == \"object\"]\n",
    "\n",
    "# Columns that can be safely ordinal encoded\n",
    "good_label_cols = [col for col in object_cols if \n",
    "                   set(X_valid[col]).issubset(set(X_train[col]))]\n",
    "        \n",
    "# Problematic columns that will be dropped from the dataset\n",
    "bad_label_cols = list(set(object_cols)-set(good_label_cols))\n",
    "        \n",
    "print('Categorical columns that will be ordinal encoded:', good_label_cols)\n",
    "print('\\nCategorical columns that will be dropped from the dataset:', bad_label_cols)"
   ]
  },
  {
   "cell_type": "markdown",
   "id": "c0311345",
   "metadata": {
    "papermill": {
     "duration": 0.030965,
     "end_time": "2022-05-09T23:47:52.596775",
     "exception": false,
     "start_time": "2022-05-09T23:47:52.565810",
     "status": "completed"
    },
    "tags": []
   },
   "source": [
    "### Part B\n",
    "\n",
    "Use the next code cell to ordinal encode the data in `X_train` and `X_valid`.  Set the preprocessed DataFrames to `label_X_train` and `label_X_valid`, respectively.  \n",
    "- We have provided code below to drop the categorical columns in `bad_label_cols` from the dataset. \n",
    "- You should ordinal encode the categorical columns in `good_label_cols`.  "
   ]
  },
  {
   "cell_type": "code",
   "execution_count": 12,
   "id": "75c6c3ff",
   "metadata": {
    "execution": {
     "iopub.execute_input": "2022-05-09T23:47:52.661332Z",
     "iopub.status.busy": "2022-05-09T23:47:52.660368Z",
     "iopub.status.idle": "2022-05-09T23:47:52.698160Z",
     "shell.execute_reply": "2022-05-09T23:47:52.697565Z"
    },
    "papermill": {
     "duration": 0.071788,
     "end_time": "2022-05-09T23:47:52.699755",
     "exception": false,
     "start_time": "2022-05-09T23:47:52.627967",
     "status": "completed"
    },
    "tags": []
   },
   "outputs": [
    {
     "data": {
      "application/javascript": [
       "parent.postMessage({\"jupyterEvent\": \"custom.exercise_interaction\", \"data\": {\"outcomeType\": 1, \"valueTowardsCompletion\": 0.5, \"interactionType\": 1, \"questionType\": 2, \"questionId\": \"2.2_LabelB\", \"learnToolsVersion\": \"0.3.4\", \"failureMessage\": \"\", \"exceptionClass\": \"\", \"trace\": \"\"}}, \"*\")"
      ],
      "text/plain": [
       "<IPython.core.display.Javascript object>"
      ]
     },
     "metadata": {},
     "output_type": "display_data"
    },
    {
     "data": {
      "text/markdown": [
       "<span style=\"color:#33cc33\">Correct</span>"
      ],
      "text/plain": [
       "Correct"
      ]
     },
     "metadata": {},
     "output_type": "display_data"
    }
   ],
   "source": [
    "from sklearn.preprocessing import OrdinalEncoder\n",
    "\n",
    "# Drop categorical columns that will not be encoded\n",
    "label_X_train = X_train.drop(bad_label_cols, axis=1)\n",
    "label_X_valid = X_valid.drop(bad_label_cols, axis=1)\n",
    "\n",
    "Oencode=OrdinalEncoder()\n",
    "label_X_train[good_label_cols]=Oencode.fit_transform(X_train[good_label_cols])\n",
    "label_X_valid[good_label_cols]=Oencode.transform(X_valid[good_label_cols])\n",
    "    \n",
    "# Check your answer\n",
    "step_2.b.check()"
   ]
  },
  {
   "cell_type": "code",
   "execution_count": 13,
   "id": "cb39214c",
   "metadata": {
    "execution": {
     "iopub.execute_input": "2022-05-09T23:47:52.765034Z",
     "iopub.status.busy": "2022-05-09T23:47:52.764497Z",
     "iopub.status.idle": "2022-05-09T23:47:52.767385Z",
     "shell.execute_reply": "2022-05-09T23:47:52.766854Z"
    },
    "papermill": {
     "duration": 0.037555,
     "end_time": "2022-05-09T23:47:52.769034",
     "exception": false,
     "start_time": "2022-05-09T23:47:52.731479",
     "status": "completed"
    },
    "tags": []
   },
   "outputs": [],
   "source": [
    "# Lines below will give you a hint or solution code\n",
    "#step_2.b.hint()\n",
    "#step_2.b.solution()"
   ]
  },
  {
   "cell_type": "markdown",
   "id": "9a9b0bfe",
   "metadata": {
    "papermill": {
     "duration": 0.031437,
     "end_time": "2022-05-09T23:47:52.832237",
     "exception": false,
     "start_time": "2022-05-09T23:47:52.800800",
     "status": "completed"
    },
    "tags": []
   },
   "source": [
    "Run the next code cell to get the MAE for this approach."
   ]
  },
  {
   "cell_type": "code",
   "execution_count": 14,
   "id": "13c5c1c2",
   "metadata": {
    "execution": {
     "iopub.execute_input": "2022-05-09T23:47:52.897718Z",
     "iopub.status.busy": "2022-05-09T23:47:52.897153Z",
     "iopub.status.idle": "2022-05-09T23:47:54.325912Z",
     "shell.execute_reply": "2022-05-09T23:47:54.324895Z"
    },
    "papermill": {
     "duration": 1.463895,
     "end_time": "2022-05-09T23:47:54.328168",
     "exception": false,
     "start_time": "2022-05-09T23:47:52.864273",
     "status": "completed"
    },
    "tags": []
   },
   "outputs": [
    {
     "name": "stdout",
     "output_type": "stream",
     "text": [
      "MAE from Approach 2 (Ordinal Encoding):\n",
      "17098.01649543379\n"
     ]
    }
   ],
   "source": [
    "print(\"MAE from Approach 2 (Ordinal Encoding):\") \n",
    "print(score_dataset(label_X_train, label_X_valid, y_train, y_valid))"
   ]
  },
  {
   "cell_type": "markdown",
   "id": "e52718ce",
   "metadata": {
    "papermill": {
     "duration": 0.034642,
     "end_time": "2022-05-09T23:47:54.398346",
     "exception": false,
     "start_time": "2022-05-09T23:47:54.363704",
     "status": "completed"
    },
    "tags": []
   },
   "source": [
    "So far, you've tried two different approaches to dealing with categorical variables.  And, you've seen that encoding categorical data yields better results than removing columns from the dataset.\n",
    "\n",
    "Soon, you'll try one-hot encoding.  Before then, there's one additional topic we need to cover.  Begin by running the next code cell without changes.  "
   ]
  },
  {
   "cell_type": "code",
   "execution_count": 15,
   "id": "53dc48e0",
   "metadata": {
    "execution": {
     "iopub.execute_input": "2022-05-09T23:47:54.466983Z",
     "iopub.status.busy": "2022-05-09T23:47:54.466196Z",
     "iopub.status.idle": "2022-05-09T23:47:54.478704Z",
     "shell.execute_reply": "2022-05-09T23:47:54.477858Z"
    },
    "papermill": {
     "duration": 0.048679,
     "end_time": "2022-05-09T23:47:54.480881",
     "exception": false,
     "start_time": "2022-05-09T23:47:54.432202",
     "status": "completed"
    },
    "tags": []
   },
   "outputs": [
    {
     "data": {
      "text/plain": [
       "[('Street', 2),\n",
       " ('Utilities', 2),\n",
       " ('CentralAir', 2),\n",
       " ('LandSlope', 3),\n",
       " ('PavedDrive', 3),\n",
       " ('LotShape', 4),\n",
       " ('LandContour', 4),\n",
       " ('ExterQual', 4),\n",
       " ('KitchenQual', 4),\n",
       " ('MSZoning', 5),\n",
       " ('LotConfig', 5),\n",
       " ('BldgType', 5),\n",
       " ('ExterCond', 5),\n",
       " ('HeatingQC', 5),\n",
       " ('Condition2', 6),\n",
       " ('RoofStyle', 6),\n",
       " ('Foundation', 6),\n",
       " ('Heating', 6),\n",
       " ('Functional', 6),\n",
       " ('SaleCondition', 6),\n",
       " ('RoofMatl', 7),\n",
       " ('HouseStyle', 8),\n",
       " ('Condition1', 9),\n",
       " ('SaleType', 9),\n",
       " ('Exterior1st', 15),\n",
       " ('Exterior2nd', 16),\n",
       " ('Neighborhood', 25)]"
      ]
     },
     "execution_count": 15,
     "metadata": {},
     "output_type": "execute_result"
    }
   ],
   "source": [
    "# Get number of unique entries in each column with categorical data\n",
    "object_nunique = list(map(lambda col: X_train[col].nunique(), object_cols))\n",
    "d = dict(zip(object_cols, object_nunique))\n",
    "\n",
    "# Print number of unique entries by column, in ascending order\n",
    "sorted(d.items(), key=lambda x: x[1])"
   ]
  },
  {
   "cell_type": "markdown",
   "id": "010ffe22",
   "metadata": {
    "papermill": {
     "duration": 0.037445,
     "end_time": "2022-05-09T23:47:54.553744",
     "exception": false,
     "start_time": "2022-05-09T23:47:54.516299",
     "status": "completed"
    },
    "tags": []
   },
   "source": [
    "# Step 3: Investigating cardinality\n",
    "\n",
    "### Part A\n",
    "\n",
    "The output above shows, for each column with categorical data, the number of unique values in the column.  For instance, the `'Street'` column in the training data has two unique values: `'Grvl'` and `'Pave'`, corresponding to a gravel road and a paved road, respectively.\n",
    "\n",
    "We refer to the number of unique entries of a categorical variable as the **cardinality** of that categorical variable.  For instance, the `'Street'` variable has cardinality 2.\n",
    "\n",
    "Use the output above to answer the questions below."
   ]
  },
  {
   "cell_type": "code",
   "execution_count": 16,
   "id": "784111a1",
   "metadata": {
    "execution": {
     "iopub.execute_input": "2022-05-09T23:47:54.623778Z",
     "iopub.status.busy": "2022-05-09T23:47:54.623209Z",
     "iopub.status.idle": "2022-05-09T23:47:54.630152Z",
     "shell.execute_reply": "2022-05-09T23:47:54.629574Z"
    },
    "papermill": {
     "duration": 0.043457,
     "end_time": "2022-05-09T23:47:54.632113",
     "exception": false,
     "start_time": "2022-05-09T23:47:54.588656",
     "status": "completed"
    },
    "tags": []
   },
   "outputs": [
    {
     "data": {
      "application/javascript": [
       "parent.postMessage({\"jupyterEvent\": \"custom.exercise_interaction\", \"data\": {\"outcomeType\": 1, \"valueTowardsCompletion\": 0.5, \"interactionType\": 1, \"questionType\": 1, \"questionId\": \"3.1_CardinalityA\", \"learnToolsVersion\": \"0.3.4\", \"failureMessage\": \"\", \"exceptionClass\": \"\", \"trace\": \"\"}}, \"*\")"
      ],
      "text/plain": [
       "<IPython.core.display.Javascript object>"
      ]
     },
     "metadata": {},
     "output_type": "display_data"
    },
    {
     "data": {
      "text/markdown": [
       "<span style=\"color:#33cc33\">Correct</span>"
      ],
      "text/plain": [
       "Correct"
      ]
     },
     "metadata": {},
     "output_type": "display_data"
    }
   ],
   "source": [
    "# Fill in the line below: How many categorical variables in the training data\n",
    "# have cardinality greater than 10?\n",
    "high_cardinality_numcols = 3\n",
    "\n",
    "# Fill in the line below: How many columns are needed to one-hot encode the \n",
    "# 'Neighborhood' variable in the training data?\n",
    "num_cols_neighborhood = 25\n",
    "\n",
    "# Check your answers\n",
    "step_3.a.check()"
   ]
  },
  {
   "cell_type": "code",
   "execution_count": 17,
   "id": "4c0cd32e",
   "metadata": {
    "execution": {
     "iopub.execute_input": "2022-05-09T23:47:54.707228Z",
     "iopub.status.busy": "2022-05-09T23:47:54.706538Z",
     "iopub.status.idle": "2022-05-09T23:47:54.711134Z",
     "shell.execute_reply": "2022-05-09T23:47:54.710327Z"
    },
    "papermill": {
     "duration": 0.044747,
     "end_time": "2022-05-09T23:47:54.713323",
     "exception": false,
     "start_time": "2022-05-09T23:47:54.668576",
     "status": "completed"
    },
    "tags": []
   },
   "outputs": [],
   "source": [
    "# Lines below will give you a hint or solution code\n",
    "#step_3.a.hint()\n",
    "#step_3.a.solution()"
   ]
  },
  {
   "cell_type": "markdown",
   "id": "34f4e7b6",
   "metadata": {
    "papermill": {
     "duration": 0.034335,
     "end_time": "2022-05-09T23:47:54.782643",
     "exception": false,
     "start_time": "2022-05-09T23:47:54.748308",
     "status": "completed"
    },
    "tags": []
   },
   "source": [
    "### Part B\n",
    "\n",
    "For large datasets with many rows, one-hot encoding can greatly expand the size of the dataset.  For this reason, we typically will only one-hot encode columns with relatively low cardinality.  Then, high cardinality columns can either be dropped from the dataset, or we can use ordinal encoding.\n",
    "\n",
    "As an example, consider a dataset with 10,000 rows, and containing one categorical column with 100 unique entries.  \n",
    "- If this column is replaced with the corresponding one-hot encoding, how many entries are added to the dataset?  \n",
    "- If we instead replace the column with the ordinal encoding, how many entries are added?  \n",
    "\n",
    "Use your answers to fill in the lines below."
   ]
  },
  {
   "cell_type": "code",
   "execution_count": 18,
   "id": "36ed25ff",
   "metadata": {
    "execution": {
     "iopub.execute_input": "2022-05-09T23:47:54.853958Z",
     "iopub.status.busy": "2022-05-09T23:47:54.853662Z",
     "iopub.status.idle": "2022-05-09T23:47:54.861193Z",
     "shell.execute_reply": "2022-05-09T23:47:54.860389Z"
    },
    "papermill": {
     "duration": 0.046038,
     "end_time": "2022-05-09T23:47:54.863167",
     "exception": false,
     "start_time": "2022-05-09T23:47:54.817129",
     "status": "completed"
    },
    "tags": []
   },
   "outputs": [
    {
     "data": {
      "application/javascript": [
       "parent.postMessage({\"jupyterEvent\": \"custom.exercise_interaction\", \"data\": {\"outcomeType\": 1, \"valueTowardsCompletion\": 0.5, \"interactionType\": 1, \"questionType\": 1, \"questionId\": \"3.2_CardinalityB\", \"learnToolsVersion\": \"0.3.4\", \"failureMessage\": \"\", \"exceptionClass\": \"\", \"trace\": \"\"}}, \"*\")"
      ],
      "text/plain": [
       "<IPython.core.display.Javascript object>"
      ]
     },
     "metadata": {},
     "output_type": "display_data"
    },
    {
     "data": {
      "text/markdown": [
       "<span style=\"color:#33cc33\">Correct</span>"
      ],
      "text/plain": [
       "Correct"
      ]
     },
     "metadata": {},
     "output_type": "display_data"
    }
   ],
   "source": [
    "# Fill in the line below: How many entries are added to the dataset by \n",
    "# replacing the column with a one-hot encoding?\n",
    "OH_entries_added =100*10000-10000\n",
    "\n",
    "# Fill in the line below: How many entries are added to the dataset by\n",
    "# replacing the column with an ordinal encoding?\n",
    "label_entries_added =0\n",
    "\n",
    "# Check your answers\n",
    "step_3.b.check()"
   ]
  },
  {
   "cell_type": "code",
   "execution_count": 19,
   "id": "f39f1d8d",
   "metadata": {
    "execution": {
     "iopub.execute_input": "2022-05-09T23:47:54.936265Z",
     "iopub.status.busy": "2022-05-09T23:47:54.935969Z",
     "iopub.status.idle": "2022-05-09T23:47:54.939240Z",
     "shell.execute_reply": "2022-05-09T23:47:54.938271Z"
    },
    "papermill": {
     "duration": 0.04129,
     "end_time": "2022-05-09T23:47:54.940929",
     "exception": false,
     "start_time": "2022-05-09T23:47:54.899639",
     "status": "completed"
    },
    "tags": []
   },
   "outputs": [],
   "source": [
    "# Lines below will give you a hint or solution code\n",
    "#step_3.b.hint()\n",
    "#step_3.b.solution()"
   ]
  },
  {
   "cell_type": "markdown",
   "id": "7116395b",
   "metadata": {
    "papermill": {
     "duration": 0.037704,
     "end_time": "2022-05-09T23:47:55.015333",
     "exception": false,
     "start_time": "2022-05-09T23:47:54.977629",
     "status": "completed"
    },
    "tags": []
   },
   "source": [
    "Next, you'll experiment with one-hot encoding.  But, instead of encoding all of the categorical variables in the dataset, you'll only create a one-hot encoding for columns with cardinality less than 10.\n",
    "\n",
    "Run the code cell below without changes to set `low_cardinality_cols` to a Python list containing the columns that will be one-hot encoded.  Likewise, `high_cardinality_cols` contains a list of categorical columns that will be dropped from the dataset."
   ]
  },
  {
   "cell_type": "code",
   "execution_count": 20,
   "id": "2e8eb2fb",
   "metadata": {
    "execution": {
     "iopub.execute_input": "2022-05-09T23:47:55.090616Z",
     "iopub.status.busy": "2022-05-09T23:47:55.090299Z",
     "iopub.status.idle": "2022-05-09T23:47:55.102545Z",
     "shell.execute_reply": "2022-05-09T23:47:55.101679Z"
    },
    "papermill": {
     "duration": 0.052857,
     "end_time": "2022-05-09T23:47:55.104648",
     "exception": false,
     "start_time": "2022-05-09T23:47:55.051791",
     "status": "completed"
    },
    "tags": []
   },
   "outputs": [
    {
     "name": "stdout",
     "output_type": "stream",
     "text": [
      "Categorical columns that will be one-hot encoded: ['MSZoning', 'Street', 'LotShape', 'LandContour', 'Utilities', 'LotConfig', 'LandSlope', 'Condition1', 'Condition2', 'BldgType', 'HouseStyle', 'RoofStyle', 'RoofMatl', 'ExterQual', 'ExterCond', 'Foundation', 'Heating', 'HeatingQC', 'CentralAir', 'KitchenQual', 'Functional', 'PavedDrive', 'SaleType', 'SaleCondition']\n",
      "\n",
      "Categorical columns that will be dropped from the dataset: ['Exterior1st', 'Neighborhood', 'Exterior2nd']\n"
     ]
    }
   ],
   "source": [
    "# Columns that will be one-hot encoded\n",
    "low_cardinality_cols = [col for col in object_cols if X_train[col].nunique() < 10]\n",
    "\n",
    "# Columns that will be dropped from the dataset\n",
    "high_cardinality_cols = list(set(object_cols)-set(low_cardinality_cols))\n",
    "\n",
    "print('Categorical columns that will be one-hot encoded:', low_cardinality_cols)\n",
    "print('\\nCategorical columns that will be dropped from the dataset:', high_cardinality_cols)"
   ]
  },
  {
   "cell_type": "markdown",
   "id": "d168900d",
   "metadata": {
    "papermill": {
     "duration": 0.036258,
     "end_time": "2022-05-09T23:47:55.179574",
     "exception": false,
     "start_time": "2022-05-09T23:47:55.143316",
     "status": "completed"
    },
    "tags": []
   },
   "source": [
    "# Step 4: One-hot encoding\n",
    "\n",
    "Use the next code cell to one-hot encode the data in `X_train` and `X_valid`.  Set the preprocessed DataFrames to `OH_X_train` and `OH_X_valid`, respectively.  \n",
    "- The full list of categorical columns in the dataset can be found in the Python list `object_cols`.\n",
    "- You should only one-hot encode the categorical columns in `low_cardinality_cols`.  All other categorical columns should be dropped from the dataset. "
   ]
  },
  {
   "cell_type": "code",
   "execution_count": 21,
   "id": "61594b92",
   "metadata": {
    "execution": {
     "iopub.execute_input": "2022-05-09T23:47:55.253325Z",
     "iopub.status.busy": "2022-05-09T23:47:55.252999Z",
     "iopub.status.idle": "2022-05-09T23:47:55.290934Z",
     "shell.execute_reply": "2022-05-09T23:47:55.289887Z"
    },
    "papermill": {
     "duration": 0.076996,
     "end_time": "2022-05-09T23:47:55.293020",
     "exception": false,
     "start_time": "2022-05-09T23:47:55.216024",
     "status": "completed"
    },
    "tags": []
   },
   "outputs": [
    {
     "data": {
      "application/javascript": [
       "parent.postMessage({\"jupyterEvent\": \"custom.exercise_interaction\", \"data\": {\"outcomeType\": 1, \"valueTowardsCompletion\": 0.5, \"interactionType\": 1, \"questionType\": 2, \"questionId\": \"4_OneHot\", \"learnToolsVersion\": \"0.3.4\", \"failureMessage\": \"\", \"exceptionClass\": \"\", \"trace\": \"\"}}, \"*\")"
      ],
      "text/plain": [
       "<IPython.core.display.Javascript object>"
      ]
     },
     "metadata": {},
     "output_type": "display_data"
    },
    {
     "data": {
      "text/markdown": [
       "<span style=\"color:#33cc33\">Correct</span>"
      ],
      "text/plain": [
       "Correct"
      ]
     },
     "metadata": {},
     "output_type": "display_data"
    }
   ],
   "source": [
    "from sklearn.preprocessing import OneHotEncoder\n",
    "\n",
    "# Use as many lines of code as you need!\n",
    "OneHencoder=OneHotEncoder(handle_unknown='ignore', sparse=False)\n",
    "OH_cols_train =pd.DataFrame(OneHencoder.fit_transform(X_train[low_cardinality_cols]))\n",
    "OH_cols_valid = pd.DataFrame(OneHencoder.transform(X_valid[low_cardinality_cols])) # Your code here\n",
    "OH_cols_train.index = X_train.index\n",
    "OH_cols_valid.index = X_valid.index\n",
    "num_X_train = X_train.drop(object_cols, axis=1)\n",
    "num_X_valid = X_valid.drop(object_cols, axis=1)\n",
    "\n",
    "# Add one-hot encoded columns to numerical features\n",
    "OH_X_train = pd.concat([num_X_train, OH_cols_train], axis=1)\n",
    "OH_X_valid = pd.concat([num_X_valid,OH_cols_valid], axis=1)\n",
    "# Check your answer\n",
    "step_4.check()"
   ]
  },
  {
   "cell_type": "code",
   "execution_count": 22,
   "id": "1456bd37",
   "metadata": {
    "execution": {
     "iopub.execute_input": "2022-05-09T23:47:55.372300Z",
     "iopub.status.busy": "2022-05-09T23:47:55.372015Z",
     "iopub.status.idle": "2022-05-09T23:47:55.375256Z",
     "shell.execute_reply": "2022-05-09T23:47:55.374276Z"
    },
    "papermill": {
     "duration": 0.045921,
     "end_time": "2022-05-09T23:47:55.377314",
     "exception": false,
     "start_time": "2022-05-09T23:47:55.331393",
     "status": "completed"
    },
    "tags": []
   },
   "outputs": [],
   "source": [
    "# Lines below will give you a hint or solution code\n",
    "#step_4.hint()\n",
    "#step_4.solution()"
   ]
  },
  {
   "cell_type": "markdown",
   "id": "ee6a26c4",
   "metadata": {
    "papermill": {
     "duration": 0.037361,
     "end_time": "2022-05-09T23:47:55.452692",
     "exception": false,
     "start_time": "2022-05-09T23:47:55.415331",
     "status": "completed"
    },
    "tags": []
   },
   "source": [
    "Run the next code cell to get the MAE for this approach."
   ]
  },
  {
   "cell_type": "code",
   "execution_count": 23,
   "id": "4aa19be4",
   "metadata": {
    "execution": {
     "iopub.execute_input": "2022-05-09T23:47:55.526416Z",
     "iopub.status.busy": "2022-05-09T23:47:55.526155Z",
     "iopub.status.idle": "2022-05-09T23:47:57.264322Z",
     "shell.execute_reply": "2022-05-09T23:47:57.263103Z"
    },
    "papermill": {
     "duration": 1.778649,
     "end_time": "2022-05-09T23:47:57.267599",
     "exception": false,
     "start_time": "2022-05-09T23:47:55.488950",
     "status": "completed"
    },
    "tags": []
   },
   "outputs": [
    {
     "name": "stdout",
     "output_type": "stream",
     "text": [
      "MAE from Approach 3 (One-Hot Encoding):\n"
     ]
    },
    {
     "name": "stderr",
     "output_type": "stream",
     "text": [
      "/opt/conda/lib/python3.7/site-packages/sklearn/utils/validation.py:1692: FutureWarning: Feature names only support names that are all strings. Got feature names with dtypes: ['int', 'str']. An error will be raised in 1.2.\n",
      "  FutureWarning,\n"
     ]
    },
    {
     "name": "stdout",
     "output_type": "stream",
     "text": [
      "17525.345719178084\n"
     ]
    },
    {
     "name": "stderr",
     "output_type": "stream",
     "text": [
      "/opt/conda/lib/python3.7/site-packages/sklearn/utils/validation.py:1692: FutureWarning: Feature names only support names that are all strings. Got feature names with dtypes: ['int', 'str']. An error will be raised in 1.2.\n",
      "  FutureWarning,\n"
     ]
    }
   ],
   "source": [
    "print(\"MAE from Approach 3 (One-Hot Encoding):\") \n",
    "print(score_dataset(OH_X_train, OH_X_valid, y_train, y_valid))"
   ]
  },
  {
   "cell_type": "markdown",
   "id": "5b0bc35a",
   "metadata": {
    "papermill": {
     "duration": 0.03833,
     "end_time": "2022-05-09T23:47:57.345069",
     "exception": false,
     "start_time": "2022-05-09T23:47:57.306739",
     "status": "completed"
    },
    "tags": []
   },
   "source": [
    "# Generate test predictions and submit your results\n",
    "\n",
    "After you complete Step 4, if you'd like to use what you've learned to submit your results to the leaderboard, you'll need to preprocess the test data before generating predictions.\n",
    "\n",
    "**This step is completely optional, and you do not need to submit results to the leaderboard to successfully complete the exercise.**\n",
    "\n",
    "Check out the previous exercise if you need help with remembering how to [join the competition](https://www.kaggle.com/c/home-data-for-ml-course) or save your results to CSV.  Once you have generated a file with your results, follow the instructions below:\n",
    "1. Begin by clicking on the **Save Version** button in the top right corner of the window.  This will generate a pop-up window.  \n",
    "2. Ensure that the **Save and Run All** option is selected, and then click on the **Save** button.\n",
    "3. This generates a window in the bottom left corner of the notebook.  After it has finished running, click on the number to the right of the **Save Version** button.  This pulls up a list of versions on the right of the screen.  Click on the ellipsis **(...)** to the right of the most recent version, and select **Open in Viewer**.  This brings you into view mode of the same page. You will need to scroll down to get back to these instructions.\n",
    "4. Click on the **Output** tab on the right of the screen.  Then, click on the file you would like to submit, and click on the **Submit** button to submit your results to the leaderboard.\n",
    "\n",
    "You have now successfully submitted to the competition!\n",
    "\n",
    "If you want to keep working to improve your performance, select the **Edit** button in the top right of the screen. Then you can change your code and repeat the process. There's a lot of room to improve, and you will climb up the leaderboard as you work.\n"
   ]
  },
  {
   "cell_type": "code",
   "execution_count": 24,
   "id": "92cb7bb6",
   "metadata": {
    "execution": {
     "iopub.execute_input": "2022-05-09T23:47:57.424348Z",
     "iopub.status.busy": "2022-05-09T23:47:57.424080Z",
     "iopub.status.idle": "2022-05-09T23:47:57.427849Z",
     "shell.execute_reply": "2022-05-09T23:47:57.426990Z"
    },
    "papermill": {
     "duration": 0.044128,
     "end_time": "2022-05-09T23:47:57.429656",
     "exception": false,
     "start_time": "2022-05-09T23:47:57.385528",
     "status": "completed"
    },
    "tags": []
   },
   "outputs": [],
   "source": [
    "# (Optional) Your code here"
   ]
  },
  {
   "cell_type": "markdown",
   "id": "2999c65a",
   "metadata": {
    "papermill": {
     "duration": 0.03748,
     "end_time": "2022-05-09T23:47:57.507789",
     "exception": false,
     "start_time": "2022-05-09T23:47:57.470309",
     "status": "completed"
    },
    "tags": []
   },
   "source": [
    "# Keep going\n",
    "\n",
    "With missing value handling and categorical encoding, your modeling process is getting complex. This complexity gets worse when you want to save your model to use in the future. The key to managing this complexity is something called **pipelines**. \n",
    "\n",
    "**[Learn to use pipelines](https://www.kaggle.com/alexisbcook/pipelines)** to preprocess datasets with categorical variables, missing values and any other messiness your data throws at you."
   ]
  },
  {
   "cell_type": "markdown",
   "id": "a14fdb61",
   "metadata": {
    "papermill": {
     "duration": 0.037381,
     "end_time": "2022-05-09T23:47:57.583256",
     "exception": false,
     "start_time": "2022-05-09T23:47:57.545875",
     "status": "completed"
    },
    "tags": []
   },
   "source": [
    "---\n",
    "\n",
    "\n",
    "\n",
    "\n",
    "*Have questions or comments? Visit the [course discussion forum](https://www.kaggle.com/learn/intermediate-machine-learning/discussion) to chat with other learners.*"
   ]
  }
 ],
 "metadata": {
  "kernelspec": {
   "display_name": "Python 3",
   "language": "python",
   "name": "python3"
  },
  "language_info": {
   "codemirror_mode": {
    "name": "ipython",
    "version": 3
   },
   "file_extension": ".py",
   "mimetype": "text/x-python",
   "name": "python",
   "nbconvert_exporter": "python",
   "pygments_lexer": "ipython3",
   "version": "3.7.12"
  },
  "papermill": {
   "default_parameters": {},
   "duration": 18.520197,
   "end_time": "2022-05-09T23:47:58.344422",
   "environment_variables": {},
   "exception": null,
   "input_path": "__notebook__.ipynb",
   "output_path": "__notebook__.ipynb",
   "parameters": {},
   "start_time": "2022-05-09T23:47:39.824225",
   "version": "2.3.4"
  }
 },
 "nbformat": 4,
 "nbformat_minor": 5
}
