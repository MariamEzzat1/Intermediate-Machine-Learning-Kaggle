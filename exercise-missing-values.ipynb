{
 "cells": [
  {
   "cell_type": "markdown",
   "id": "8b84d1c7",
   "metadata": {
    "papermill": {
     "duration": 0.034432,
     "end_time": "2022-05-09T03:55:15.097663",
     "exception": false,
     "start_time": "2022-05-09T03:55:15.063231",
     "status": "completed"
    },
    "tags": []
   },
   "source": [
    "**This notebook is an exercise in the [Intermediate Machine Learning](https://www.kaggle.com/learn/intermediate-machine-learning) course.  You can reference the tutorial at [this link](https://www.kaggle.com/alexisbcook/missing-values).**\n",
    "\n",
    "---\n"
   ]
  },
  {
   "cell_type": "markdown",
   "id": "a9adf998",
   "metadata": {
    "papermill": {
     "duration": 0.033138,
     "end_time": "2022-05-09T03:55:15.164244",
     "exception": false,
     "start_time": "2022-05-09T03:55:15.131106",
     "status": "completed"
    },
    "tags": []
   },
   "source": [
    "Now it's your turn to test your new knowledge of **missing values** handling. You'll probably find it makes a big difference.\n",
    "\n",
    "# Setup\n",
    "\n",
    "The questions will give you feedback on your work. Run the following cell to set up the feedback system."
   ]
  },
  {
   "cell_type": "code",
   "execution_count": 1,
   "id": "93092e9c",
   "metadata": {
    "execution": {
     "iopub.execute_input": "2022-05-09T03:55:15.233406Z",
     "iopub.status.busy": "2022-05-09T03:55:15.232647Z",
     "iopub.status.idle": "2022-05-09T03:55:15.284375Z",
     "shell.execute_reply": "2022-05-09T03:55:15.283494Z"
    },
    "papermill": {
     "duration": 0.089589,
     "end_time": "2022-05-09T03:55:15.287284",
     "exception": false,
     "start_time": "2022-05-09T03:55:15.197695",
     "status": "completed"
    },
    "tags": []
   },
   "outputs": [
    {
     "name": "stdout",
     "output_type": "stream",
     "text": [
      "Setup Complete\n"
     ]
    }
   ],
   "source": [
    "# Set up code checking\n",
    "import os\n",
    "if not os.path.exists(\"../input/train.csv\"):\n",
    "    os.symlink(\"../input/home-data-for-ml-course/train.csv\", \"../input/train.csv\")  \n",
    "    os.symlink(\"../input/home-data-for-ml-course/test.csv\", \"../input/test.csv\") \n",
    "from learntools.core import binder\n",
    "binder.bind(globals())\n",
    "from learntools.ml_intermediate.ex2 import *\n",
    "print(\"Setup Complete\")"
   ]
  },
  {
   "cell_type": "markdown",
   "id": "efc2eddd",
   "metadata": {
    "papermill": {
     "duration": 0.033298,
     "end_time": "2022-05-09T03:55:15.356683",
     "exception": false,
     "start_time": "2022-05-09T03:55:15.323385",
     "status": "completed"
    },
    "tags": []
   },
   "source": [
    "In this exercise, you will work with data from the [Housing Prices Competition for Kaggle Learn Users](https://www.kaggle.com/c/home-data-for-ml-course). \n",
    "\n",
    "![Ames Housing dataset image](https://i.imgur.com/lTJVG4e.png)\n",
    "\n",
    "Run the next code cell without changes to load the training and validation sets in `X_train`, `X_valid`, `y_train`, and `y_valid`.  The test set is loaded in `X_test`."
   ]
  },
  {
   "cell_type": "code",
   "execution_count": 2,
   "id": "bdddfd43",
   "metadata": {
    "execution": {
     "iopub.execute_input": "2022-05-09T03:55:15.427335Z",
     "iopub.status.busy": "2022-05-09T03:55:15.427036Z",
     "iopub.status.idle": "2022-05-09T03:55:16.624818Z",
     "shell.execute_reply": "2022-05-09T03:55:16.623886Z"
    },
    "papermill": {
     "duration": 1.237115,
     "end_time": "2022-05-09T03:55:16.627189",
     "exception": false,
     "start_time": "2022-05-09T03:55:15.390074",
     "status": "completed"
    },
    "tags": []
   },
   "outputs": [],
   "source": [
    "import pandas as pd\n",
    "from sklearn.model_selection import train_test_split\n",
    "\n",
    "# Read the data\n",
    "X_full = pd.read_csv('../input/train.csv', index_col='Id')\n",
    "X_test_full = pd.read_csv('../input/test.csv', index_col='Id')\n",
    "\n",
    "# Remove rows with missing target, separate target from predictors\n",
    "X_full.dropna(axis=0, subset=['SalePrice'], inplace=True)\n",
    "y = X_full.SalePrice\n",
    "X_full.drop(['SalePrice'], axis=1, inplace=True)\n",
    "\n",
    "# To keep things simple, we'll use only numerical predictors\n",
    "X = X_full.select_dtypes(exclude=['object'])\n",
    "X_test = X_test_full.select_dtypes(exclude=['object'])\n",
    "\n",
    "# Break off validation set from training data\n",
    "X_train, X_valid, y_train, y_valid = train_test_split(X, y, train_size=0.8, test_size=0.2,\n",
    "                                                      random_state=0)"
   ]
  },
  {
   "cell_type": "markdown",
   "id": "ae44b681",
   "metadata": {
    "papermill": {
     "duration": 0.03319,
     "end_time": "2022-05-09T03:55:16.694273",
     "exception": false,
     "start_time": "2022-05-09T03:55:16.661083",
     "status": "completed"
    },
    "tags": []
   },
   "source": [
    "Use the next code cell to print the first five rows of the data."
   ]
  },
  {
   "cell_type": "code",
   "execution_count": 3,
   "id": "325c0a94",
   "metadata": {
    "execution": {
     "iopub.execute_input": "2022-05-09T03:55:16.763440Z",
     "iopub.status.busy": "2022-05-09T03:55:16.763131Z",
     "iopub.status.idle": "2022-05-09T03:55:16.791971Z",
     "shell.execute_reply": "2022-05-09T03:55:16.791401Z"
    },
    "papermill": {
     "duration": 0.066476,
     "end_time": "2022-05-09T03:55:16.794312",
     "exception": false,
     "start_time": "2022-05-09T03:55:16.727836",
     "status": "completed"
    },
    "tags": []
   },
   "outputs": [
    {
     "data": {
      "text/html": [
       "<div>\n",
       "<style scoped>\n",
       "    .dataframe tbody tr th:only-of-type {\n",
       "        vertical-align: middle;\n",
       "    }\n",
       "\n",
       "    .dataframe tbody tr th {\n",
       "        vertical-align: top;\n",
       "    }\n",
       "\n",
       "    .dataframe thead th {\n",
       "        text-align: right;\n",
       "    }\n",
       "</style>\n",
       "<table border=\"1\" class=\"dataframe\">\n",
       "  <thead>\n",
       "    <tr style=\"text-align: right;\">\n",
       "      <th></th>\n",
       "      <th>MSSubClass</th>\n",
       "      <th>LotFrontage</th>\n",
       "      <th>LotArea</th>\n",
       "      <th>OverallQual</th>\n",
       "      <th>OverallCond</th>\n",
       "      <th>YearBuilt</th>\n",
       "      <th>YearRemodAdd</th>\n",
       "      <th>MasVnrArea</th>\n",
       "      <th>BsmtFinSF1</th>\n",
       "      <th>BsmtFinSF2</th>\n",
       "      <th>...</th>\n",
       "      <th>GarageArea</th>\n",
       "      <th>WoodDeckSF</th>\n",
       "      <th>OpenPorchSF</th>\n",
       "      <th>EnclosedPorch</th>\n",
       "      <th>3SsnPorch</th>\n",
       "      <th>ScreenPorch</th>\n",
       "      <th>PoolArea</th>\n",
       "      <th>MiscVal</th>\n",
       "      <th>MoSold</th>\n",
       "      <th>YrSold</th>\n",
       "    </tr>\n",
       "    <tr>\n",
       "      <th>Id</th>\n",
       "      <th></th>\n",
       "      <th></th>\n",
       "      <th></th>\n",
       "      <th></th>\n",
       "      <th></th>\n",
       "      <th></th>\n",
       "      <th></th>\n",
       "      <th></th>\n",
       "      <th></th>\n",
       "      <th></th>\n",
       "      <th></th>\n",
       "      <th></th>\n",
       "      <th></th>\n",
       "      <th></th>\n",
       "      <th></th>\n",
       "      <th></th>\n",
       "      <th></th>\n",
       "      <th></th>\n",
       "      <th></th>\n",
       "      <th></th>\n",
       "      <th></th>\n",
       "    </tr>\n",
       "  </thead>\n",
       "  <tbody>\n",
       "    <tr>\n",
       "      <th>619</th>\n",
       "      <td>20</td>\n",
       "      <td>90.0</td>\n",
       "      <td>11694</td>\n",
       "      <td>9</td>\n",
       "      <td>5</td>\n",
       "      <td>2007</td>\n",
       "      <td>2007</td>\n",
       "      <td>452.0</td>\n",
       "      <td>48</td>\n",
       "      <td>0</td>\n",
       "      <td>...</td>\n",
       "      <td>774</td>\n",
       "      <td>0</td>\n",
       "      <td>108</td>\n",
       "      <td>0</td>\n",
       "      <td>0</td>\n",
       "      <td>260</td>\n",
       "      <td>0</td>\n",
       "      <td>0</td>\n",
       "      <td>7</td>\n",
       "      <td>2007</td>\n",
       "    </tr>\n",
       "    <tr>\n",
       "      <th>871</th>\n",
       "      <td>20</td>\n",
       "      <td>60.0</td>\n",
       "      <td>6600</td>\n",
       "      <td>5</td>\n",
       "      <td>5</td>\n",
       "      <td>1962</td>\n",
       "      <td>1962</td>\n",
       "      <td>0.0</td>\n",
       "      <td>0</td>\n",
       "      <td>0</td>\n",
       "      <td>...</td>\n",
       "      <td>308</td>\n",
       "      <td>0</td>\n",
       "      <td>0</td>\n",
       "      <td>0</td>\n",
       "      <td>0</td>\n",
       "      <td>0</td>\n",
       "      <td>0</td>\n",
       "      <td>0</td>\n",
       "      <td>8</td>\n",
       "      <td>2009</td>\n",
       "    </tr>\n",
       "    <tr>\n",
       "      <th>93</th>\n",
       "      <td>30</td>\n",
       "      <td>80.0</td>\n",
       "      <td>13360</td>\n",
       "      <td>5</td>\n",
       "      <td>7</td>\n",
       "      <td>1921</td>\n",
       "      <td>2006</td>\n",
       "      <td>0.0</td>\n",
       "      <td>713</td>\n",
       "      <td>0</td>\n",
       "      <td>...</td>\n",
       "      <td>432</td>\n",
       "      <td>0</td>\n",
       "      <td>0</td>\n",
       "      <td>44</td>\n",
       "      <td>0</td>\n",
       "      <td>0</td>\n",
       "      <td>0</td>\n",
       "      <td>0</td>\n",
       "      <td>8</td>\n",
       "      <td>2009</td>\n",
       "    </tr>\n",
       "    <tr>\n",
       "      <th>818</th>\n",
       "      <td>20</td>\n",
       "      <td>NaN</td>\n",
       "      <td>13265</td>\n",
       "      <td>8</td>\n",
       "      <td>5</td>\n",
       "      <td>2002</td>\n",
       "      <td>2002</td>\n",
       "      <td>148.0</td>\n",
       "      <td>1218</td>\n",
       "      <td>0</td>\n",
       "      <td>...</td>\n",
       "      <td>857</td>\n",
       "      <td>150</td>\n",
       "      <td>59</td>\n",
       "      <td>0</td>\n",
       "      <td>0</td>\n",
       "      <td>0</td>\n",
       "      <td>0</td>\n",
       "      <td>0</td>\n",
       "      <td>7</td>\n",
       "      <td>2008</td>\n",
       "    </tr>\n",
       "    <tr>\n",
       "      <th>303</th>\n",
       "      <td>20</td>\n",
       "      <td>118.0</td>\n",
       "      <td>13704</td>\n",
       "      <td>7</td>\n",
       "      <td>5</td>\n",
       "      <td>2001</td>\n",
       "      <td>2002</td>\n",
       "      <td>150.0</td>\n",
       "      <td>0</td>\n",
       "      <td>0</td>\n",
       "      <td>...</td>\n",
       "      <td>843</td>\n",
       "      <td>468</td>\n",
       "      <td>81</td>\n",
       "      <td>0</td>\n",
       "      <td>0</td>\n",
       "      <td>0</td>\n",
       "      <td>0</td>\n",
       "      <td>0</td>\n",
       "      <td>1</td>\n",
       "      <td>2006</td>\n",
       "    </tr>\n",
       "  </tbody>\n",
       "</table>\n",
       "<p>5 rows × 36 columns</p>\n",
       "</div>"
      ],
      "text/plain": [
       "     MSSubClass  LotFrontage  LotArea  OverallQual  OverallCond  YearBuilt  \\\n",
       "Id                                                                           \n",
       "619          20         90.0    11694            9            5       2007   \n",
       "871          20         60.0     6600            5            5       1962   \n",
       "93           30         80.0    13360            5            7       1921   \n",
       "818          20          NaN    13265            8            5       2002   \n",
       "303          20        118.0    13704            7            5       2001   \n",
       "\n",
       "     YearRemodAdd  MasVnrArea  BsmtFinSF1  BsmtFinSF2  ...  GarageArea  \\\n",
       "Id                                                     ...               \n",
       "619          2007       452.0          48           0  ...         774   \n",
       "871          1962         0.0           0           0  ...         308   \n",
       "93           2006         0.0         713           0  ...         432   \n",
       "818          2002       148.0        1218           0  ...         857   \n",
       "303          2002       150.0           0           0  ...         843   \n",
       "\n",
       "     WoodDeckSF  OpenPorchSF  EnclosedPorch  3SsnPorch  ScreenPorch  PoolArea  \\\n",
       "Id                                                                              \n",
       "619           0          108              0          0          260         0   \n",
       "871           0            0              0          0            0         0   \n",
       "93            0            0             44          0            0         0   \n",
       "818         150           59              0          0            0         0   \n",
       "303         468           81              0          0            0         0   \n",
       "\n",
       "     MiscVal  MoSold  YrSold  \n",
       "Id                            \n",
       "619        0       7    2007  \n",
       "871        0       8    2009  \n",
       "93         0       8    2009  \n",
       "818        0       7    2008  \n",
       "303        0       1    2006  \n",
       "\n",
       "[5 rows x 36 columns]"
      ]
     },
     "execution_count": 3,
     "metadata": {},
     "output_type": "execute_result"
    }
   ],
   "source": [
    "X_train.head()"
   ]
  },
  {
   "cell_type": "markdown",
   "id": "4fc62c41",
   "metadata": {
    "papermill": {
     "duration": 0.034143,
     "end_time": "2022-05-09T03:55:16.862959",
     "exception": false,
     "start_time": "2022-05-09T03:55:16.828816",
     "status": "completed"
    },
    "tags": []
   },
   "source": [
    "You can already see a few missing values in the first several rows.  In the next step, you'll obtain a more comprehensive understanding of the missing values in the dataset.\n",
    "\n",
    "# Step 1: Preliminary investigation\n",
    "\n",
    "Run the code cell below without changes."
   ]
  },
  {
   "cell_type": "code",
   "execution_count": 4,
   "id": "fed10502",
   "metadata": {
    "execution": {
     "iopub.execute_input": "2022-05-09T03:55:16.932877Z",
     "iopub.status.busy": "2022-05-09T03:55:16.932580Z",
     "iopub.status.idle": "2022-05-09T03:55:16.940719Z",
     "shell.execute_reply": "2022-05-09T03:55:16.940116Z"
    },
    "papermill": {
     "duration": 0.045633,
     "end_time": "2022-05-09T03:55:16.942893",
     "exception": false,
     "start_time": "2022-05-09T03:55:16.897260",
     "status": "completed"
    },
    "tags": []
   },
   "outputs": [
    {
     "name": "stdout",
     "output_type": "stream",
     "text": [
      "(1168, 36)\n",
      "LotFrontage    212\n",
      "MasVnrArea       6\n",
      "GarageYrBlt     58\n",
      "dtype: int64\n"
     ]
    }
   ],
   "source": [
    "# Shape of training data (num_rows, num_columns)\n",
    "print(X_train.shape)\n",
    "\n",
    "# Number of missing values in each column of training data\n",
    "missing_val_count_by_column = (X_train.isnull().sum())\n",
    "print(missing_val_count_by_column[missing_val_count_by_column > 0])"
   ]
  },
  {
   "cell_type": "markdown",
   "id": "7d626e44",
   "metadata": {
    "papermill": {
     "duration": 0.035364,
     "end_time": "2022-05-09T03:55:17.013319",
     "exception": false,
     "start_time": "2022-05-09T03:55:16.977955",
     "status": "completed"
    },
    "tags": []
   },
   "source": [
    "### Part A\n",
    "\n",
    "Use the above output to answer the questions below."
   ]
  },
  {
   "cell_type": "code",
   "execution_count": 5,
   "id": "0242eba9",
   "metadata": {
    "execution": {
     "iopub.execute_input": "2022-05-09T03:55:17.085582Z",
     "iopub.status.busy": "2022-05-09T03:55:17.085015Z",
     "iopub.status.idle": "2022-05-09T03:55:17.092495Z",
     "shell.execute_reply": "2022-05-09T03:55:17.091708Z"
    },
    "papermill": {
     "duration": 0.046264,
     "end_time": "2022-05-09T03:55:17.094327",
     "exception": false,
     "start_time": "2022-05-09T03:55:17.048063",
     "status": "completed"
    },
    "tags": []
   },
   "outputs": [
    {
     "data": {
      "application/javascript": [
       "parent.postMessage({\"jupyterEvent\": \"custom.exercise_interaction\", \"data\": {\"outcomeType\": 1, \"valueTowardsCompletion\": 1.0, \"interactionType\": 1, \"questionType\": 1, \"questionId\": \"1.1_InvestigateEquality\", \"learnToolsVersion\": \"0.3.4\", \"failureMessage\": \"\", \"exceptionClass\": \"\", \"trace\": \"\"}}, \"*\")"
      ],
      "text/plain": [
       "<IPython.core.display.Javascript object>"
      ]
     },
     "metadata": {},
     "output_type": "display_data"
    },
    {
     "data": {
      "text/markdown": [
       "<span style=\"color:#33cc33\">Correct</span>"
      ],
      "text/plain": [
       "Correct"
      ]
     },
     "metadata": {},
     "output_type": "display_data"
    }
   ],
   "source": [
    "# Fill in the line below: How many rows are in the training data?\n",
    "num_rows = 1168\n",
    "\n",
    "# Fill in the line below: How many columns in the training data\n",
    "# have missing values?\n",
    "num_cols_with_missing = 3\n",
    "\n",
    "# Fill in the line below: How many missing entries are contained in \n",
    "# all of the training data?\n",
    "tot_missing = 212+6+58\n",
    "\n",
    "# Check your answers\n",
    "step_1.a.check()"
   ]
  },
  {
   "cell_type": "code",
   "execution_count": 6,
   "id": "64edc0c0",
   "metadata": {
    "execution": {
     "iopub.execute_input": "2022-05-09T03:55:17.170662Z",
     "iopub.status.busy": "2022-05-09T03:55:17.170184Z",
     "iopub.status.idle": "2022-05-09T03:55:17.173108Z",
     "shell.execute_reply": "2022-05-09T03:55:17.172524Z"
    },
    "papermill": {
     "duration": 0.043216,
     "end_time": "2022-05-09T03:55:17.174962",
     "exception": false,
     "start_time": "2022-05-09T03:55:17.131746",
     "status": "completed"
    },
    "tags": []
   },
   "outputs": [],
   "source": [
    "# Lines below will give you a hint or solution code\n",
    "#step_1.a.hint()\n",
    "#step_1.a.solution()"
   ]
  },
  {
   "cell_type": "markdown",
   "id": "33c3aa29",
   "metadata": {
    "papermill": {
     "duration": 0.035922,
     "end_time": "2022-05-09T03:55:17.247080",
     "exception": false,
     "start_time": "2022-05-09T03:55:17.211158",
     "status": "completed"
    },
    "tags": []
   },
   "source": [
    "### Part B\n",
    "Considering your answers above, what do you think is likely the best approach to dealing with the missing values?"
   ]
  },
  {
   "cell_type": "code",
   "execution_count": 7,
   "id": "33e55242",
   "metadata": {
    "execution": {
     "iopub.execute_input": "2022-05-09T03:55:17.320938Z",
     "iopub.status.busy": "2022-05-09T03:55:17.320384Z",
     "iopub.status.idle": "2022-05-09T03:55:17.326626Z",
     "shell.execute_reply": "2022-05-09T03:55:17.326067Z"
    },
    "papermill": {
     "duration": 0.045324,
     "end_time": "2022-05-09T03:55:17.328435",
     "exception": false,
     "start_time": "2022-05-09T03:55:17.283111",
     "status": "completed"
    },
    "tags": []
   },
   "outputs": [
    {
     "data": {
      "application/javascript": [
       "parent.postMessage({\"jupyterEvent\": \"custom.exercise_interaction\", \"data\": {\"outcomeType\": 1, \"valueTowardsCompletion\": 1.0, \"interactionType\": 1, \"questionType\": 4, \"questionId\": \"1.2_InvestigateThought\", \"learnToolsVersion\": \"0.3.4\", \"failureMessage\": \"\", \"exceptionClass\": \"\", \"trace\": \"\"}}, \"*\")"
      ],
      "text/plain": [
       "<IPython.core.display.Javascript object>"
      ]
     },
     "metadata": {},
     "output_type": "display_data"
    },
    {
     "data": {
      "text/markdown": [
       "<span style=\"color:#33cc33\">Correct:</span> \n",
       "\n",
       "Since there are relatively few missing entries in the data (the column with the greatest percentage of missing values is missing less than 20% of its entries), we can expect that dropping columns is unlikely to yield good results.  This is because we'd be throwing away a lot of valuable data, and so imputation will likely perform better."
      ],
      "text/plain": [
       "Correct: \n",
       "\n",
       "Since there are relatively few missing entries in the data (the column with the greatest percentage of missing values is missing less than 20% of its entries), we can expect that dropping columns is unlikely to yield good results.  This is because we'd be throwing away a lot of valuable data, and so imputation will likely perform better."
      ]
     },
     "metadata": {},
     "output_type": "display_data"
    }
   ],
   "source": [
    "# Check your answer (Run this code cell to receive credit!)\n",
    "step_1.b.check()"
   ]
  },
  {
   "cell_type": "code",
   "execution_count": 8,
   "id": "447e8638",
   "metadata": {
    "execution": {
     "iopub.execute_input": "2022-05-09T03:55:17.405001Z",
     "iopub.status.busy": "2022-05-09T03:55:17.404451Z",
     "iopub.status.idle": "2022-05-09T03:55:17.407872Z",
     "shell.execute_reply": "2022-05-09T03:55:17.407059Z"
    },
    "papermill": {
     "duration": 0.043653,
     "end_time": "2022-05-09T03:55:17.409777",
     "exception": false,
     "start_time": "2022-05-09T03:55:17.366124",
     "status": "completed"
    },
    "tags": []
   },
   "outputs": [],
   "source": [
    "#step_1.b.hint()"
   ]
  },
  {
   "cell_type": "markdown",
   "id": "91732a6b",
   "metadata": {
    "papermill": {
     "duration": 0.037017,
     "end_time": "2022-05-09T03:55:17.484130",
     "exception": false,
     "start_time": "2022-05-09T03:55:17.447113",
     "status": "completed"
    },
    "tags": []
   },
   "source": [
    "To compare different approaches to dealing with missing values, you'll use the same `score_dataset()` function from the tutorial.  This function reports the [mean absolute error](https://en.wikipedia.org/wiki/Mean_absolute_error) (MAE) from a random forest model."
   ]
  },
  {
   "cell_type": "code",
   "execution_count": 9,
   "id": "c6f282ee",
   "metadata": {
    "execution": {
     "iopub.execute_input": "2022-05-09T03:55:17.560111Z",
     "iopub.status.busy": "2022-05-09T03:55:17.559841Z",
     "iopub.status.idle": "2022-05-09T03:55:17.767548Z",
     "shell.execute_reply": "2022-05-09T03:55:17.766708Z"
    },
    "papermill": {
     "duration": 0.248625,
     "end_time": "2022-05-09T03:55:17.769909",
     "exception": false,
     "start_time": "2022-05-09T03:55:17.521284",
     "status": "completed"
    },
    "tags": []
   },
   "outputs": [],
   "source": [
    "from sklearn.ensemble import RandomForestRegressor\n",
    "from sklearn.metrics import mean_absolute_error\n",
    "\n",
    "# Function for comparing different approaches\n",
    "def score_dataset(X_train, X_valid, y_train, y_valid):\n",
    "    model = RandomForestRegressor(n_estimators=100, random_state=0)\n",
    "    model.fit(X_train, y_train)\n",
    "    preds = model.predict(X_valid)\n",
    "    return mean_absolute_error(y_valid, preds)"
   ]
  },
  {
   "cell_type": "markdown",
   "id": "00325dbf",
   "metadata": {
    "papermill": {
     "duration": 0.038299,
     "end_time": "2022-05-09T03:55:17.845502",
     "exception": false,
     "start_time": "2022-05-09T03:55:17.807203",
     "status": "completed"
    },
    "tags": []
   },
   "source": [
    "# Step 2: Drop columns with missing values\n",
    "\n",
    "In this step, you'll preprocess the data in `X_train` and `X_valid` to remove columns with missing values.  Set the preprocessed DataFrames to `reduced_X_train` and `reduced_X_valid`, respectively.  "
   ]
  },
  {
   "cell_type": "code",
   "execution_count": 10,
   "id": "fd827f6a",
   "metadata": {
    "execution": {
     "iopub.execute_input": "2022-05-09T03:55:17.922296Z",
     "iopub.status.busy": "2022-05-09T03:55:17.921743Z",
     "iopub.status.idle": "2022-05-09T03:55:17.948108Z",
     "shell.execute_reply": "2022-05-09T03:55:17.947588Z"
    },
    "papermill": {
     "duration": 0.066764,
     "end_time": "2022-05-09T03:55:17.949954",
     "exception": false,
     "start_time": "2022-05-09T03:55:17.883190",
     "status": "completed"
    },
    "tags": []
   },
   "outputs": [
    {
     "data": {
      "application/javascript": [
       "parent.postMessage({\"jupyterEvent\": \"custom.exercise_interaction\", \"data\": {\"outcomeType\": 1, \"valueTowardsCompletion\": 1.0, \"interactionType\": 1, \"questionType\": 2, \"questionId\": \"2_DropMissing\", \"learnToolsVersion\": \"0.3.4\", \"failureMessage\": \"\", \"exceptionClass\": \"\", \"trace\": \"\"}}, \"*\")"
      ],
      "text/plain": [
       "<IPython.core.display.Javascript object>"
      ]
     },
     "metadata": {},
     "output_type": "display_data"
    },
    {
     "data": {
      "text/markdown": [
       "<span style=\"color:#33cc33\">Correct</span>"
      ],
      "text/plain": [
       "Correct"
      ]
     },
     "metadata": {},
     "output_type": "display_data"
    }
   ],
   "source": [
    "# Fill in the line below: get names of columns with missing values\n",
    "colsWithmissed=[]\n",
    "for col in X_train.columns:\n",
    "    if (X_train[col].isnull().any()):\n",
    "        colsWithmissed.append (col)\n",
    "\n",
    "\n",
    "# Fill in the lines below: drop columns in training and validation data\n",
    "reduced_X_train = X_train.drop(colsWithmissed,axis=1)\n",
    "reduced_X_valid = X_valid.drop(colsWithmissed,axis=1)\n",
    "\n",
    "# Check your answers\n",
    "step_2.check()"
   ]
  },
  {
   "cell_type": "code",
   "execution_count": 11,
   "id": "1e855990",
   "metadata": {
    "execution": {
     "iopub.execute_input": "2022-05-09T03:55:18.030372Z",
     "iopub.status.busy": "2022-05-09T03:55:18.030060Z",
     "iopub.status.idle": "2022-05-09T03:55:18.032973Z",
     "shell.execute_reply": "2022-05-09T03:55:18.032409Z"
    },
    "papermill": {
     "duration": 0.04558,
     "end_time": "2022-05-09T03:55:18.034784",
     "exception": false,
     "start_time": "2022-05-09T03:55:17.989204",
     "status": "completed"
    },
    "tags": []
   },
   "outputs": [],
   "source": [
    "# Lines below will give you a hint or solution code\n",
    "#step_2.hint()\n",
    "#step_2.solution()"
   ]
  },
  {
   "cell_type": "markdown",
   "id": "ae8fc4f9",
   "metadata": {
    "papermill": {
     "duration": 0.038783,
     "end_time": "2022-05-09T03:55:18.112677",
     "exception": false,
     "start_time": "2022-05-09T03:55:18.073894",
     "status": "completed"
    },
    "tags": []
   },
   "source": [
    "Run the next code cell without changes to obtain the MAE for this approach."
   ]
  },
  {
   "cell_type": "code",
   "execution_count": 12,
   "id": "ff5e18ef",
   "metadata": {
    "execution": {
     "iopub.execute_input": "2022-05-09T03:55:18.193059Z",
     "iopub.status.busy": "2022-05-09T03:55:18.192545Z",
     "iopub.status.idle": "2022-05-09T03:55:19.311094Z",
     "shell.execute_reply": "2022-05-09T03:55:19.309821Z"
    },
    "papermill": {
     "duration": 1.160624,
     "end_time": "2022-05-09T03:55:19.313309",
     "exception": false,
     "start_time": "2022-05-09T03:55:18.152685",
     "status": "completed"
    },
    "tags": []
   },
   "outputs": [
    {
     "name": "stdout",
     "output_type": "stream",
     "text": [
      "MAE (Drop columns with missing values):\n",
      "17837.82570776256\n"
     ]
    }
   ],
   "source": [
    "print(\"MAE (Drop columns with missing values):\")\n",
    "print(score_dataset(reduced_X_train, reduced_X_valid, y_train, y_valid))"
   ]
  },
  {
   "cell_type": "markdown",
   "id": "dfe88841",
   "metadata": {
    "papermill": {
     "duration": 0.039917,
     "end_time": "2022-05-09T03:55:19.393004",
     "exception": false,
     "start_time": "2022-05-09T03:55:19.353087",
     "status": "completed"
    },
    "tags": []
   },
   "source": [
    "# Step 3: Imputation\n",
    "\n",
    "### Part A\n",
    "\n",
    "Use the next code cell to impute missing values with the mean value along each column.  Set the preprocessed DataFrames to `imputed_X_train` and `imputed_X_valid`.  Make sure that the column names match those in `X_train` and `X_valid`."
   ]
  },
  {
   "cell_type": "code",
   "execution_count": 13,
   "id": "64549a3b",
   "metadata": {
    "execution": {
     "iopub.execute_input": "2022-05-09T03:55:19.474024Z",
     "iopub.status.busy": "2022-05-09T03:55:19.473485Z",
     "iopub.status.idle": "2022-05-09T03:55:19.506238Z",
     "shell.execute_reply": "2022-05-09T03:55:19.505641Z"
    },
    "papermill": {
     "duration": 0.075757,
     "end_time": "2022-05-09T03:55:19.508207",
     "exception": false,
     "start_time": "2022-05-09T03:55:19.432450",
     "status": "completed"
    },
    "tags": []
   },
   "outputs": [
    {
     "data": {
      "application/javascript": [
       "parent.postMessage({\"jupyterEvent\": \"custom.exercise_interaction\", \"data\": {\"outcomeType\": 1, \"valueTowardsCompletion\": 1.0, \"interactionType\": 1, \"questionType\": 2, \"questionId\": \"3.1_ImputeCode\", \"learnToolsVersion\": \"0.3.4\", \"failureMessage\": \"\", \"exceptionClass\": \"\", \"trace\": \"\"}}, \"*\")"
      ],
      "text/plain": [
       "<IPython.core.display.Javascript object>"
      ]
     },
     "metadata": {},
     "output_type": "display_data"
    },
    {
     "data": {
      "text/markdown": [
       "<span style=\"color:#33cc33\">Correct</span>"
      ],
      "text/plain": [
       "Correct"
      ]
     },
     "metadata": {},
     "output_type": "display_data"
    }
   ],
   "source": [
    "from sklearn.impute import SimpleImputer\n",
    "\n",
    "# Fill in the lines below: imputation\n",
    "impute= SimpleImputer()\n",
    "imputed_X_train =  pd.DataFrame(impute.fit_transform(X_train))\n",
    "imputed_X_valid = pd.DataFrame(impute.transform(X_valid))\n",
    "\n",
    "# Fill in the lines below: imputation removed column names; put them back\n",
    "imputed_X_train.columns = X_train.columns\n",
    "imputed_X_valid.columns = X_valid.columns\n",
    "# Check your answers\n",
    "step_3.a.check()"
   ]
  },
  {
   "cell_type": "code",
   "execution_count": 14,
   "id": "b0693673",
   "metadata": {
    "execution": {
     "iopub.execute_input": "2022-05-09T03:55:19.591814Z",
     "iopub.status.busy": "2022-05-09T03:55:19.591238Z",
     "iopub.status.idle": "2022-05-09T03:55:19.594248Z",
     "shell.execute_reply": "2022-05-09T03:55:19.593706Z"
    },
    "papermill": {
     "duration": 0.046966,
     "end_time": "2022-05-09T03:55:19.595941",
     "exception": false,
     "start_time": "2022-05-09T03:55:19.548975",
     "status": "completed"
    },
    "tags": []
   },
   "outputs": [],
   "source": [
    "# Lines below will give you a hint or solution code\n",
    "#step_3.a.hint()\n",
    "#step_3.a.solution()"
   ]
  },
  {
   "cell_type": "markdown",
   "id": "ea5edb18",
   "metadata": {
    "papermill": {
     "duration": 0.040388,
     "end_time": "2022-05-09T03:55:19.677053",
     "exception": false,
     "start_time": "2022-05-09T03:55:19.636665",
     "status": "completed"
    },
    "tags": []
   },
   "source": [
    "Run the next code cell without changes to obtain the MAE for this approach."
   ]
  },
  {
   "cell_type": "code",
   "execution_count": 15,
   "id": "88897b29",
   "metadata": {
    "execution": {
     "iopub.execute_input": "2022-05-09T03:55:19.760618Z",
     "iopub.status.busy": "2022-05-09T03:55:19.760273Z",
     "iopub.status.idle": "2022-05-09T03:55:20.999679Z",
     "shell.execute_reply": "2022-05-09T03:55:20.998713Z"
    },
    "papermill": {
     "duration": 1.283852,
     "end_time": "2022-05-09T03:55:21.001896",
     "exception": false,
     "start_time": "2022-05-09T03:55:19.718044",
     "status": "completed"
    },
    "tags": []
   },
   "outputs": [
    {
     "name": "stdout",
     "output_type": "stream",
     "text": [
      "MAE (Imputation):\n",
      "18062.894611872147\n"
     ]
    }
   ],
   "source": [
    "print(\"MAE (Imputation):\")\n",
    "print(score_dataset(imputed_X_train, imputed_X_valid, y_train, y_valid))"
   ]
  },
  {
   "cell_type": "markdown",
   "id": "2dd2aba0",
   "metadata": {
    "papermill": {
     "duration": 0.042768,
     "end_time": "2022-05-09T03:55:21.087908",
     "exception": false,
     "start_time": "2022-05-09T03:55:21.045140",
     "status": "completed"
    },
    "tags": []
   },
   "source": [
    "### Part B\n",
    "\n",
    "Compare the MAE from each approach.  Does anything surprise you about the results?  Why do you think one approach performed better than the other?"
   ]
  },
  {
   "cell_type": "code",
   "execution_count": 16,
   "id": "239f80be",
   "metadata": {
    "execution": {
     "iopub.execute_input": "2022-05-09T03:55:21.173408Z",
     "iopub.status.busy": "2022-05-09T03:55:21.173128Z",
     "iopub.status.idle": "2022-05-09T03:55:21.180699Z",
     "shell.execute_reply": "2022-05-09T03:55:21.179926Z"
    },
    "papermill": {
     "duration": 0.052686,
     "end_time": "2022-05-09T03:55:21.182442",
     "exception": false,
     "start_time": "2022-05-09T03:55:21.129756",
     "status": "completed"
    },
    "tags": []
   },
   "outputs": [
    {
     "data": {
      "application/javascript": [
       "parent.postMessage({\"jupyterEvent\": \"custom.exercise_interaction\", \"data\": {\"outcomeType\": 1, \"valueTowardsCompletion\": 1.0, \"interactionType\": 1, \"questionType\": 4, \"questionId\": \"3.2_ImputeThought\", \"learnToolsVersion\": \"0.3.4\", \"failureMessage\": \"\", \"exceptionClass\": \"\", \"trace\": \"\"}}, \"*\")"
      ],
      "text/plain": [
       "<IPython.core.display.Javascript object>"
      ]
     },
     "metadata": {},
     "output_type": "display_data"
    },
    {
     "data": {
      "text/markdown": [
       "<span style=\"color:#33cc33\">Correct:</span> \n",
       "\n",
       "Given that thre are so few missing values in the dataset, we'd expect imputation to perform better than dropping columns entirely.  However, we see that dropping columns performs slightly better!  While this can probably partially be attributed to noise in the dataset, another potential explanation is that the imputation method is not a great match to this dataset.  That is, maybe instead of filling in the mean value, it makes more sense to set every missing value to a value of 0, to fill in the most frequently encountered value, or to use some other method.  For instance, consider the `GarageYrBlt` column (which indicates the year that the garage was built).  It's likely that in some cases, a missing value could indicate a house that does not have a garage.  Does it make more sense to fill in the median value along each column in this case?  Or could we get better results by filling in the minimum value along each column?  It's not quite clear what's best in this case, but perhaps we can rule out some options immediately - for instance, setting missing values in this column to 0 is likely to yield horrible results!"
      ],
      "text/plain": [
       "Correct: \n",
       "\n",
       "Given that thre are so few missing values in the dataset, we'd expect imputation to perform better than dropping columns entirely.  However, we see that dropping columns performs slightly better!  While this can probably partially be attributed to noise in the dataset, another potential explanation is that the imputation method is not a great match to this dataset.  That is, maybe instead of filling in the mean value, it makes more sense to set every missing value to a value of 0, to fill in the most frequently encountered value, or to use some other method.  For instance, consider the `GarageYrBlt` column (which indicates the year that the garage was built).  It's likely that in some cases, a missing value could indicate a house that does not have a garage.  Does it make more sense to fill in the median value along each column in this case?  Or could we get better results by filling in the minimum value along each column?  It's not quite clear what's best in this case, but perhaps we can rule out some options immediately - for instance, setting missing values in this column to 0 is likely to yield horrible results!"
      ]
     },
     "metadata": {},
     "output_type": "display_data"
    }
   ],
   "source": [
    "# Check your answer (Run this code cell to receive credit!)\n",
    "step_3.b.check()"
   ]
  },
  {
   "cell_type": "code",
   "execution_count": 17,
   "id": "abb5017f",
   "metadata": {
    "execution": {
     "iopub.execute_input": "2022-05-09T03:55:21.271699Z",
     "iopub.status.busy": "2022-05-09T03:55:21.270992Z",
     "iopub.status.idle": "2022-05-09T03:55:21.274807Z",
     "shell.execute_reply": "2022-05-09T03:55:21.274225Z"
    },
    "papermill": {
     "duration": 0.050952,
     "end_time": "2022-05-09T03:55:21.276536",
     "exception": false,
     "start_time": "2022-05-09T03:55:21.225584",
     "status": "completed"
    },
    "tags": []
   },
   "outputs": [],
   "source": [
    "#step_3.b.hint()"
   ]
  },
  {
   "cell_type": "markdown",
   "id": "ac9c0e42",
   "metadata": {
    "papermill": {
     "duration": 0.043049,
     "end_time": "2022-05-09T03:55:21.362988",
     "exception": false,
     "start_time": "2022-05-09T03:55:21.319939",
     "status": "completed"
    },
    "tags": []
   },
   "source": [
    "# Step 4: Generate test predictions\n",
    "\n",
    "In this final step, you'll use any approach of your choosing to deal with missing values.  Once you've preprocessed the training and validation features, you'll train and evaluate a random forest model.  Then, you'll preprocess the test data before generating predictions that can be submitted to the competition!\n",
    "\n",
    "### Part A\n",
    "\n",
    "Use the next code cell to preprocess the training and validation data.  Set the preprocessed DataFrames to `final_X_train` and `final_X_valid`.  **You can use any approach of your choosing here!**  in order for this step to be marked as correct, you need only ensure:\n",
    "- the preprocessed DataFrames have the same number of columns,\n",
    "- the preprocessed DataFrames have no missing values, \n",
    "- `final_X_train` and `y_train` have the same number of rows, and\n",
    "- `final_X_valid` and `y_valid` have the same number of rows."
   ]
  },
  {
   "cell_type": "code",
   "execution_count": 18,
   "id": "6f52ec0a",
   "metadata": {
    "execution": {
     "iopub.execute_input": "2022-05-09T03:55:21.452187Z",
     "iopub.status.busy": "2022-05-09T03:55:21.451192Z",
     "iopub.status.idle": "2022-05-09T03:55:21.466098Z",
     "shell.execute_reply": "2022-05-09T03:55:21.465502Z"
    },
    "papermill": {
     "duration": 0.061039,
     "end_time": "2022-05-09T03:55:21.467846",
     "exception": false,
     "start_time": "2022-05-09T03:55:21.406807",
     "status": "completed"
    },
    "tags": []
   },
   "outputs": [
    {
     "data": {
      "application/javascript": [
       "parent.postMessage({\"jupyterEvent\": \"custom.exercise_interaction\", \"data\": {\"outcomeType\": 1, \"valueTowardsCompletion\": 1.0, \"interactionType\": 1, \"questionType\": 2, \"questionId\": \"4.1_PredsCodeA\", \"learnToolsVersion\": \"0.3.4\", \"failureMessage\": \"\", \"exceptionClass\": \"\", \"trace\": \"\"}}, \"*\")"
      ],
      "text/plain": [
       "<IPython.core.display.Javascript object>"
      ]
     },
     "metadata": {},
     "output_type": "display_data"
    },
    {
     "data": {
      "text/markdown": [
       "<span style=\"color:#33cc33\">Correct</span>"
      ],
      "text/plain": [
       "Correct"
      ]
     },
     "metadata": {},
     "output_type": "display_data"
    }
   ],
   "source": [
    "# Preprocessed training and validation features\n",
    "final_X_train = reduced_X_train\n",
    "final_X_valid = reduced_X_valid\n",
    "\n",
    "# Check your answers\n",
    "step_4.a.check()"
   ]
  },
  {
   "cell_type": "code",
   "execution_count": 19,
   "id": "6f61ff35",
   "metadata": {
    "execution": {
     "iopub.execute_input": "2022-05-09T03:55:21.558858Z",
     "iopub.status.busy": "2022-05-09T03:55:21.558292Z",
     "iopub.status.idle": "2022-05-09T03:55:21.561299Z",
     "shell.execute_reply": "2022-05-09T03:55:21.560727Z"
    },
    "papermill": {
     "duration": 0.050559,
     "end_time": "2022-05-09T03:55:21.563020",
     "exception": false,
     "start_time": "2022-05-09T03:55:21.512461",
     "status": "completed"
    },
    "tags": []
   },
   "outputs": [],
   "source": [
    "# Lines below will give you a hint or solution code\n",
    "#step_4.a.hint()\n",
    "#step_4.a.solution()"
   ]
  },
  {
   "cell_type": "markdown",
   "id": "d62973f5",
   "metadata": {
    "papermill": {
     "duration": 0.044015,
     "end_time": "2022-05-09T03:55:21.651717",
     "exception": false,
     "start_time": "2022-05-09T03:55:21.607702",
     "status": "completed"
    },
    "tags": []
   },
   "source": [
    "Run the next code cell to train and evaluate a random forest model.  (*Note that we don't use the `score_dataset()` function above, because we will soon use the trained model to generate test predictions!*)"
   ]
  },
  {
   "cell_type": "code",
   "execution_count": 20,
   "id": "f1848cd6",
   "metadata": {
    "execution": {
     "iopub.execute_input": "2022-05-09T03:55:21.742788Z",
     "iopub.status.busy": "2022-05-09T03:55:21.742271Z",
     "iopub.status.idle": "2022-05-09T03:55:22.864048Z",
     "shell.execute_reply": "2022-05-09T03:55:22.863202Z"
    },
    "papermill": {
     "duration": 1.169905,
     "end_time": "2022-05-09T03:55:22.866466",
     "exception": false,
     "start_time": "2022-05-09T03:55:21.696561",
     "status": "completed"
    },
    "tags": []
   },
   "outputs": [
    {
     "name": "stdout",
     "output_type": "stream",
     "text": [
      "MAE (Your approach):\n",
      "17837.82570776256\n"
     ]
    }
   ],
   "source": [
    "# Define and fit model\n",
    "model = RandomForestRegressor(n_estimators=100, random_state=0)\n",
    "model.fit(final_X_train, y_train)\n",
    "\n",
    "# Get validation predictions and MAE\n",
    "preds_valid = model.predict(final_X_valid)\n",
    "print(\"MAE (Your approach):\")\n",
    "print(mean_absolute_error(y_valid, preds_valid))"
   ]
  },
  {
   "cell_type": "markdown",
   "id": "75acb219",
   "metadata": {
    "papermill": {
     "duration": 0.045204,
     "end_time": "2022-05-09T03:55:22.956912",
     "exception": false,
     "start_time": "2022-05-09T03:55:22.911708",
     "status": "completed"
    },
    "tags": []
   },
   "source": [
    "### Part B\n",
    "\n",
    "Use the next code cell to preprocess your test data.  Make sure that you use a method that agrees with how you preprocessed the training and validation data, and set the preprocessed test features to `final_X_test`.\n",
    "\n",
    "Then, use the preprocessed test features and the trained model to generate test predictions in `preds_test`.\n",
    "\n",
    "In order for this step to be marked correct, you need only ensure:\n",
    "- the preprocessed test DataFrame has no missing values, and\n",
    "- `final_X_test` has the same number of rows as `X_test`."
   ]
  },
  {
   "cell_type": "code",
   "execution_count": 21,
   "id": "a80d2e20",
   "metadata": {
    "execution": {
     "iopub.execute_input": "2022-05-09T03:55:23.050878Z",
     "iopub.status.busy": "2022-05-09T03:55:23.050572Z",
     "iopub.status.idle": "2022-05-09T03:55:24.318263Z",
     "shell.execute_reply": "2022-05-09T03:55:24.317395Z"
    },
    "papermill": {
     "duration": 1.317468,
     "end_time": "2022-05-09T03:55:24.320458",
     "exception": false,
     "start_time": "2022-05-09T03:55:23.002990",
     "status": "completed"
    },
    "tags": []
   },
   "outputs": [
    {
     "data": {
      "application/javascript": [
       "parent.postMessage({\"jupyterEvent\": \"custom.exercise_interaction\", \"data\": {\"outcomeType\": 1, \"valueTowardsCompletion\": 1.0, \"interactionType\": 1, \"questionType\": 2, \"questionId\": \"4.2_PredsCodeB\", \"learnToolsVersion\": \"0.3.4\", \"failureMessage\": \"\", \"exceptionClass\": \"\", \"trace\": \"\"}}, \"*\")"
      ],
      "text/plain": [
       "<IPython.core.display.Javascript object>"
      ]
     },
     "metadata": {},
     "output_type": "display_data"
    },
    {
     "data": {
      "text/markdown": [
       "<span style=\"color:#33cc33\">Correct</span>"
      ],
      "text/plain": [
       "Correct"
      ]
     },
     "metadata": {},
     "output_type": "display_data"
    }
   ],
   "source": [
    "# Fill in the line below: preprocess test data\n",
    "final_imputer= SimpleImputer()\n",
    "final_X_test= pd.DataFrame(impute.transform(X_test))\n",
    "# Fill in the lines below: imputation removed column names; put them back\n",
    "final_X_test.columns = X_test.columns\n",
    "\n",
    "model.fit(imputed_X_train,y_train)\n",
    "# Fill in the line below: get test predictions\n",
    "preds_test = model.predict(final_X_test)\n",
    "\n",
    "# Check your answers\n",
    "step_4.b.check()"
   ]
  },
  {
   "cell_type": "code",
   "execution_count": 22,
   "id": "41801d5c",
   "metadata": {
    "execution": {
     "iopub.execute_input": "2022-05-09T03:55:24.415649Z",
     "iopub.status.busy": "2022-05-09T03:55:24.415120Z",
     "iopub.status.idle": "2022-05-09T03:55:24.418201Z",
     "shell.execute_reply": "2022-05-09T03:55:24.417596Z"
    },
    "papermill": {
     "duration": 0.052871,
     "end_time": "2022-05-09T03:55:24.420045",
     "exception": false,
     "start_time": "2022-05-09T03:55:24.367174",
     "status": "completed"
    },
    "tags": []
   },
   "outputs": [],
   "source": [
    "# Lines below will give you a hint or solution code\n",
    "#step_4.b.hint()\n",
    "#step_4.b.solution()"
   ]
  },
  {
   "cell_type": "markdown",
   "id": "38db5d45",
   "metadata": {
    "papermill": {
     "duration": 0.046757,
     "end_time": "2022-05-09T03:55:24.513922",
     "exception": false,
     "start_time": "2022-05-09T03:55:24.467165",
     "status": "completed"
    },
    "tags": []
   },
   "source": [
    "Run the next code cell without changes to save your results to a CSV file that can be submitted directly to the competition."
   ]
  },
  {
   "cell_type": "code",
   "execution_count": 23,
   "id": "6ea6ee39",
   "metadata": {
    "execution": {
     "iopub.execute_input": "2022-05-09T03:55:24.609970Z",
     "iopub.status.busy": "2022-05-09T03:55:24.609335Z",
     "iopub.status.idle": "2022-05-09T03:55:24.620940Z",
     "shell.execute_reply": "2022-05-09T03:55:24.620359Z"
    },
    "papermill": {
     "duration": 0.061329,
     "end_time": "2022-05-09T03:55:24.623053",
     "exception": false,
     "start_time": "2022-05-09T03:55:24.561724",
     "status": "completed"
    },
    "tags": []
   },
   "outputs": [],
   "source": [
    "# Save test predictions to file\n",
    "output = pd.DataFrame({'Id': X_test.index,\n",
    "                       'SalePrice': preds_test})\n",
    "output.to_csv('submission.csv', index=False)"
   ]
  },
  {
   "cell_type": "markdown",
   "id": "97a2b803",
   "metadata": {
    "papermill": {
     "duration": 0.046184,
     "end_time": "2022-05-09T03:55:24.715459",
     "exception": false,
     "start_time": "2022-05-09T03:55:24.669275",
     "status": "completed"
    },
    "tags": []
   },
   "source": [
    "# Submit your results\n",
    "\n",
    "Once you have successfully completed Step 4, you're ready to submit your results to the leaderboard!  (_You also learned how to do this in the previous exercise.  If you need a reminder of how to do this, please use the instructions below._)  \n",
    "\n",
    "First, you'll need to join the competition if you haven't already.  So open a new window by clicking on [this link](https://www.kaggle.com/c/home-data-for-ml-course).  Then click on the **Join Competition** button.\n",
    "\n",
    "![join competition image](https://i.imgur.com/wLmFtH3.png)\n",
    "\n",
    "Next, follow the instructions below:\n",
    "1. Begin by clicking on the **Save Version** button in the top right corner of the window.  This will generate a pop-up window.  \n",
    "2. Ensure that the **Save and Run All** option is selected, and then click on the **Save** button.\n",
    "3. This generates a window in the bottom left corner of the notebook.  After it has finished running, click on the number to the right of the **Save Version** button.  This pulls up a list of versions on the right of the screen.  Click on the ellipsis **(...)** to the right of the most recent version, and select **Open in Viewer**.  This brings you into view mode of the same page. You will need to scroll down to get back to these instructions.\n",
    "4. Click on the **Output** tab on the right of the screen.  Then, click on the file you would like to submit, and click on the **Submit** button to submit your results to the leaderboard.\n",
    "\n",
    "You have now successfully submitted to the competition!\n",
    "\n",
    "If you want to keep working to improve your performance, select the **Edit** button in the top right of the screen. Then you can change your code and repeat the process. There's a lot of room to improve, and you will climb up the leaderboard as you work.\n",
    "\n",
    "\n",
    "# Keep going\n",
    "\n",
    "Move on to learn what **[categorical variables](https://www.kaggle.com/alexisbcook/categorical-variables)** are, along with how to incorporate them into your machine learning models.  Categorical variables are very common in real-world data, but you'll get an error if you try to plug them into your models without processing them first!"
   ]
  },
  {
   "cell_type": "markdown",
   "id": "b6bde5cd",
   "metadata": {
    "papermill": {
     "duration": 0.045801,
     "end_time": "2022-05-09T03:55:24.807171",
     "exception": false,
     "start_time": "2022-05-09T03:55:24.761370",
     "status": "completed"
    },
    "tags": []
   },
   "source": [
    "---\n",
    "\n",
    "\n",
    "\n",
    "\n",
    "*Have questions or comments? Visit the [course discussion forum](https://www.kaggle.com/learn/intermediate-machine-learning/discussion) to chat with other learners.*"
   ]
  }
 ],
 "metadata": {
  "kernelspec": {
   "display_name": "Python 3",
   "language": "python",
   "name": "python3"
  },
  "language_info": {
   "codemirror_mode": {
    "name": "ipython",
    "version": 3
   },
   "file_extension": ".py",
   "mimetype": "text/x-python",
   "name": "python",
   "nbconvert_exporter": "python",
   "pygments_lexer": "ipython3",
   "version": "3.7.12"
  },
  "papermill": {
   "default_parameters": {},
   "duration": 20.192762,
   "end_time": "2022-05-09T03:55:25.572825",
   "environment_variables": {},
   "exception": null,
   "input_path": "__notebook__.ipynb",
   "output_path": "__notebook__.ipynb",
   "parameters": {},
   "start_time": "2022-05-09T03:55:05.380063",
   "version": "2.3.4"
  }
 },
 "nbformat": 4,
 "nbformat_minor": 5
}
